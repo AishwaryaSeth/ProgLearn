{
 "cells": [
  {
   "cell_type": "markdown",
   "source": [
    "# Gaussian XOR and Gaussian XNOR Experiment\n",
    "\n",
    "One key goal of progressive learning is to be able to continually improve upon past performance with the introduction of new data, without forgetting too much of the past tasks. This transfer of information can be evaluated using a variety of metrics; however, here, we use a generalization of Pearl's transfer-benefit ratio (TBR) in both the forward and backward directions."
   ],
   "metadata": {}
  },
  {
   "cell_type": "markdown",
   "source": [
    "As described in [Vogelstein, et al. (2020)](https://arxiv.org/pdf/2004.12908.pdf), the forward transfer efficiency of task $f_n$ for task $t$ given $n$ samples is:\n",
    "\n",
    "$$FTE^t (f_n) := \\mathbb{E} [R^t (f^{t}_n )/R^t (f^{<t}_n )]$$\n",
    "\n",
    "If $FTE^t(f_n)>1$, the algorithm demonstrates positive forward transfer, i.e. past task data has been used to improve performance on the current task.\n",
    "\n",
    "Similarly, the backward transfer efficiency of task $f_n$ for task $t$ given $n$ samples is:\n",
    "\n",
    "$$BTE^t (f_n) := \\mathbb{E} [R^t (f_n^{<t} )/R^t (f_n)]$$\n",
    "\n",
    "If $BTE^t(f_n)>1$, the algorithm demonstrates positive backward transfer, i.e. data from the current task has been used to improve performance on past tasks."
   ],
   "metadata": {}
  },
  {
   "cell_type": "markdown",
   "source": [
    "Progressive learning in a simple environment can therefore be demonstrated using two simple tasks: Gaussian XOR and Gaussian Not-XOR (XNOR). Here, forward transfer efficiency is the ratio of generalization errors for XNOR, whereas backward transfer efficiency is the ratio of generalization errors for XOR. These two tasks share the same discriminant boundaries, so learning can be easily transferred between them.\n",
    "\n",
    "This experiment compares the performance of lifelong forests to uncertainty forests in undergoing these tasks."
   ],
   "metadata": {}
  },
  {
   "cell_type": "code",
   "execution_count": null,
   "source": [
    "import numpy as np\n",
    "\n",
    "import functions.xor_xnor_functions as fn\n",
    "from proglearn.sims import generate_gaussian_parity"
   ],
   "outputs": [],
   "metadata": {}
  },
  {
   "cell_type": "markdown",
   "source": [
    "**Note:** This notebook tutorial uses functions stored externally within `functions/xor_xnor_functions.py`, to simplify presentation of code. These functions are imported above, along with other libraries."
   ],
   "metadata": {}
  },
  {
   "cell_type": "markdown",
   "source": [
    "## Classification Problem\n",
    "\n",
    "First, let's visualize Gaussian XOR and N-XOR.\n",
    "\n",
    "Gaussian XOR is a two-class classification problem, where...\n",
    "- Class 0 is drawn from two Gaussians with $\\mu = \\pm [0.5, 0.5]^T$ and $\\sigma^2 = 0.25I$.\n",
    "- Class 1 is drawn from two Gaussians with $\\mu = \\pm [0.5, -0.5]^T$ and $\\sigma^2 = 0.25I$.\n",
    "\n",
    "Gaussian XNOR has the same distribution as Gaussian XOR, but with the class labels flipped, i.e...\n",
    "- Class 0 is drawn from two Gaussians with $\\mu = \\pm [0.5, -0.5]^T$ and $\\sigma^2 = 0.25I$.\n",
    "- Class 1 is drawn from two Gaussians with $\\mu = \\pm [0.5, 0.5]^T$ and $\\sigma^2 = 0.25I$."
   ],
   "metadata": {}
  },
  {
   "cell_type": "markdown",
   "source": [
    "Within the proglearn package, we can make use of the simulations within the `sims` folder to generate simulated data. The `generate_gaussian_parity` function within `gaussian_sim.py` can be used to create the Gaussian XOR and XNOR problems. Let's generate data and plot it to see what these problems look like!"
   ],
   "metadata": {}
  },
  {
   "cell_type": "code",
   "execution_count": null,
   "source": [
    "# call function to return gaussian xor and n-xor data:\n",
    "X_xor, y_xor = generate_gaussian_parity(1000)\n",
    "X_nxor, y_nxor = generate_gaussian_parity(1000, angle_params=np.pi/2)\n",
    "\n",
    "X, Y = generate_gaussian_parity(750, angle_params=0)\n",
    "Z, W = generate_gaussian_parity(750, angle_params=np.pi/2)\n",
    "\n",
    "# plot and format:\n",
    "fn.plot_xor_nxor(X_xor, y_xor, 'Gaussian XOR')\n",
    "fn.plot_xor_nxor(X_nxor, y_nxor, 'Gaussian XNOR')"
   ],
   "outputs": [],
   "metadata": {}
  },
  {
   "cell_type": "markdown",
   "source": [
    "## The Experiment\n",
    "\n",
    "Now that we have generated the data, we can prepare to run the experiment. The function for running the experiment, `experiment`, can be found within `functions/xor_xnor_functions.py`. "
   ],
   "metadata": {}
  },
  {
   "cell_type": "markdown",
   "source": [
    "We first declare the hyperparameters to be used for the experiment, which are as follows:\n",
    "- `mc_rep`: number of repetitions to run the progressive learning algorithm for\n",
    "- `n_test`: number of xor/nxor data points in the test set\n",
    "- `n_trees`: number of trees\n",
    "- `n_xor`: array containing number of xor data points fed to learner, ranges from 50 to 725 in increments of 25\n",
    "- `n_nxor`: array containing number of nxor data points fed to learner, ranges from 50 to 750 in increments of 25"
   ],
   "metadata": {}
  },
  {
   "cell_type": "code",
   "execution_count": null,
   "source": [
    "# define hyperparameters:\n",
    "mc_rep = 100 # 1000 in paper experiment\n",
    "n_test = 1000 \n",
    "n_trees = 10\n",
    "n_xor = (100*np.arange(0.5, 7.50, step=0.25)).astype(int)\n",
    "n_xnor = (100*np.arange(0.25, 7.50, step=0.25)).astype(int)"
   ],
   "outputs": [],
   "metadata": {}
  },
  {
   "cell_type": "markdown",
   "source": [
    "Once those are determined, the experiment can be initialized and performed. We iterate over the values in `n_xor` and `n_nxor` sequentially, running each experiment for the number of iterations declared in `mc_rep`."
   ],
   "metadata": {}
  },
  {
   "cell_type": "code",
   "execution_count": null,
   "source": [
    "# running the experiment:\n",
    "\n",
    "# create empty arrays for storing results\n",
    "mean_error = np.zeros((6, len(n_xor)+len(n_xnor)))\n",
    "std_error = np.zeros((6, len(n_xor)+len(n_xnor)))\n",
    "mean_te = np.zeros((4, len(n_xor)+len(n_xnor)))\n",
    "std_te = np.zeros((4, len(n_xor)+len(n_xnor)))\n",
    "\n",
    "# run the experiment\n",
    "mean_error, std_error, mean_te, std_te = fn.run(mc_rep, n_test, n_trees,n_xor,n_xnor, mean_error, std_error, mean_te, std_te);"
   ],
   "outputs": [],
   "metadata": {}
  },
  {
   "cell_type": "markdown",
   "source": [
    "Great! The experiment should now be complete, with the results stored in four arrays: `mean_error`, `std_error`, `mean_te`, and `std_te`."
   ],
   "metadata": {}
  },
  {
   "cell_type": "markdown",
   "source": [
    "## Visualizing the Results\n",
    "\n",
    "Now that the experiment is complete, the results can be visualized by extracting the data from these arrays and plotting it. \n",
    "\n",
    "Here, we again utilize functions from `functions/xor_nxor_functions.py` to help in plotting:\n",
    "- `plot_error-and-eff`: plots generalization error and transfer efficiency for progressive learning and random forests"
   ],
   "metadata": {}
  },
  {
   "cell_type": "code",
   "execution_count": null,
   "source": [
    "# plot data\n",
    "fn.plot_error_and_eff(n_xor, n_xnor, mean_error, mean_te, 'XOR', 'XNOR')"
   ],
   "outputs": [],
   "metadata": {}
  },
  {
   "cell_type": "markdown",
   "source": [
    "#### Generalization Error for XOR Data (bottom left plot)\n",
    "\n",
    "By plotting the generalization error for XOR data, we can see how the \n",
    "introduction of XNOR data influenced the performance of both the omnidirectional learning forest (Odif) and the random forest. \n",
    "\n",
    "In the bottom left plot, we see that when XNOR data is available, the Odif outperforms random forests."
   ],
   "metadata": {}
  },
  {
   "cell_type": "markdown",
   "source": [
    "#### Generalization Error for XNOR Data (bottom middle plot)\n",
    "\n",
    "Similarly, by plotting the generalization error for XNOR data, we can also see how the presence of XOR data influenced the performance of both algorithms. \n",
    "\n",
    "In the bottom middle plot, we see that given XOR data is available, Odif outperforms random forests on classifying XNOR data."
   ],
   "metadata": {}
  },
  {
   "cell_type": "markdown",
   "source": [
    "#### Transfer Efficiency for XOR Data (bottom right plot)\n",
    "\n",
    "Given the generalization errors plotted above, we can calculate the transfer efficiency as a ratio of the generalization error for Odif to single task learning forest. The forward and backward transfer efficiencies are then plotted in the bottom right plot.\n",
    "\n",
    "Odif demonstrates both positive forward and backward transfer in this environment"
   ],
   "metadata": {}
  },
  {
   "cell_type": "markdown",
   "source": [],
   "metadata": {}
  }
 ],
 "metadata": {
  "kernelspec": {
   "name": "python3",
   "display_name": "Python 3.8.3 64-bit ('proglearn': conda)"
  },
  "language_info": {
   "codemirror_mode": {
    "name": "ipython",
    "version": 3
   },
   "file_extension": ".py",
   "mimetype": "text/x-python",
   "name": "python",
   "nbconvert_exporter": "python",
   "pygments_lexer": "ipython3",
   "version": "3.8.3"
  },
  "interpreter": {
   "hash": "139864aabd290972d7a327a720f92c31cd48dab9898d3ede71c289531c45c249"
  }
 },
 "nbformat": 4,
 "nbformat_minor": 4
}