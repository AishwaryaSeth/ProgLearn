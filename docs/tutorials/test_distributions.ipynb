{
 "cells": [
  {
   "cell_type": "markdown",
   "metadata": {},
   "source": [
    "# Sample Size Experiment using Random Forest and Deep Networks"
   ]
  },
  {
   "cell_type": "markdown",
   "metadata": {},
   "source": [
    "### Random Forest (RF) vs. Deep Networks (DN)\n",
    "\n",
    "Random forest is inherently a non-parametric model, meaning that the algorithm requires no assumptions about the data distribution. With infinitely many trees and n -> $\\infty$, RF will follow non-parametric behavior and will guarantee convergence.\n",
    "\n",
    "Deep Networks with a fixed architecture are entirely parametric. As presented by [Vogelstein, et al. (2020)](https://www.biorxiv.org/content/10.1101/2020.04.29.068460v1), there is a clear bias variance tradeoff between DNs as the number of parameters change. This is evident by testing each model over a range of sample sizes. DNs (CNNs) perform particularly well on image datasets. \n",
    "\n",
    "### Experiment Discription\n",
    "\n",
    "In [Vogelstein, et al. (2020)](https://www.biorxiv.org/content/10.1101/2020.04.29.068460v1), when trained on the CIFAR-10 dataset, both a simple DN and an overparametrized DN produced a lower classification error than RF for sample sizes greater than 2500. RF outperformed both DNs for sample sizes smaller than 2500. While this experiment only tests up to 10000 sample sizes, RF is theoretically guaranteed to produce a lower classification error at infinite samples due to its non-parametric nature.\n",
    "\n",
    "The goal of this tutorial is to identify a joint distribution (X,Y) that demonstrates this relationship. RF should profuce a smaller generalization error as small sample sizes, a specific parametric DN should produce a smaller generalization error at medium sample sizes, and RF should once again produce a smaller generalization error at large sample sizes."
   ]
  },
  {
   "cell_type": "code",
   "execution_count": 1,
   "metadata": {},
   "outputs": [
    {
     "data": {
      "application/javascript": [
       "\n",
       "            setTimeout(function() {\n",
       "                var nbb_cell_id = 1;\n",
       "                var nbb_unformatted_code = \"%load_ext nb_black\";\n",
       "                var nbb_formatted_code = \"%load_ext nb_black\";\n",
       "                var nbb_cells = Jupyter.notebook.get_cells();\n",
       "                for (var i = 0; i < nbb_cells.length; ++i) {\n",
       "                    if (nbb_cells[i].input_prompt_number == nbb_cell_id) {\n",
       "                        if (nbb_cells[i].get_text() == nbb_unformatted_code) {\n",
       "                             nbb_cells[i].set_text(nbb_formatted_code);\n",
       "                        }\n",
       "                        break;\n",
       "                    }\n",
       "                }\n",
       "            }, 500);\n",
       "            "
      ],
      "text/plain": [
       "<IPython.core.display.Javascript object>"
      ]
     },
     "metadata": {},
     "output_type": "display_data"
    }
   ],
   "source": [
    "%load_ext nb_black"
   ]
  },
  {
   "cell_type": "markdown",
   "metadata": {},
   "source": [
    "### Load dependencies\n",
    "\n",
    "Import required dependencies and model functions from sample_size_experiment.py"
   ]
  },
  {
   "cell_type": "code",
   "execution_count": 2,
   "metadata": {},
   "outputs": [
    {
     "data": {
      "application/javascript": [
       "\n",
       "            setTimeout(function() {\n",
       "                var nbb_cell_id = 2;\n",
       "                var nbb_unformatted_code = \"from sample_size_experiment import *\";\n",
       "                var nbb_formatted_code = \"from sample_size_experiment import *\";\n",
       "                var nbb_cells = Jupyter.notebook.get_cells();\n",
       "                for (var i = 0; i < nbb_cells.length; ++i) {\n",
       "                    if (nbb_cells[i].input_prompt_number == nbb_cell_id) {\n",
       "                        if (nbb_cells[i].get_text() == nbb_unformatted_code) {\n",
       "                             nbb_cells[i].set_text(nbb_formatted_code);\n",
       "                        }\n",
       "                        break;\n",
       "                    }\n",
       "                }\n",
       "            }, 500);\n",
       "            "
      ],
      "text/plain": [
       "<IPython.core.display.Javascript object>"
      ]
     },
     "metadata": {},
     "output_type": "display_data"
    }
   ],
   "source": [
    "from sample_size_experiment import *"
   ]
  },
  {
   "cell_type": "code",
   "execution_count": 62,
   "metadata": {},
   "outputs": [
    {
     "data": {
      "application/javascript": [
       "\n",
       "            setTimeout(function() {\n",
       "                var nbb_cell_id = 62;\n",
       "                var nbb_unformatted_code = \"%matplotlib inline\\nimport numpy as np\\nimport pandas as pd\\nimport matplotlib.pyplot as plt\\nimport random\\nfrom IPython.display import display\\nfrom scipy import stats\\n\\nfrom sklearn.metrics import accuracy_score\\nfrom tensorflow.keras.utils import to_categorical\";\n",
       "                var nbb_formatted_code = \"%matplotlib inline\\nimport numpy as np\\nimport pandas as pd\\nimport matplotlib.pyplot as plt\\nimport random\\nfrom IPython.display import display\\nfrom scipy import stats\\n\\nfrom sklearn.metrics import accuracy_score\\nfrom tensorflow.keras.utils import to_categorical\";\n",
       "                var nbb_cells = Jupyter.notebook.get_cells();\n",
       "                for (var i = 0; i < nbb_cells.length; ++i) {\n",
       "                    if (nbb_cells[i].input_prompt_number == nbb_cell_id) {\n",
       "                        if (nbb_cells[i].get_text() == nbb_unformatted_code) {\n",
       "                             nbb_cells[i].set_text(nbb_formatted_code);\n",
       "                        }\n",
       "                        break;\n",
       "                    }\n",
       "                }\n",
       "            }, 500);\n",
       "            "
      ],
      "text/plain": [
       "<IPython.core.display.Javascript object>"
      ]
     },
     "metadata": {},
     "output_type": "display_data"
    }
   ],
   "source": [
    "%matplotlib inline\n",
    "import numpy as np\n",
    "import pandas as pd\n",
    "import matplotlib.pyplot as plt\n",
    "import random\n",
    "from IPython.display import display\n",
    "from scipy import stats\n",
    "\n",
    "from sklearn.metrics import accuracy_score\n",
    "from tensorflow.keras.utils import to_categorical"
   ]
  },
  {
   "cell_type": "markdown",
   "metadata": {},
   "source": [
    "### Randomly sample subset of points\n",
    "\n",
    "Function takes in X and y data. Randomly select a desired number of indices and outputs the data in those positions."
   ]
  },
  {
   "cell_type": "code",
   "execution_count": 4,
   "metadata": {},
   "outputs": [
    {
     "data": {
      "application/javascript": [
       "\n",
       "            setTimeout(function() {\n",
       "                var nbb_cell_id = 4;\n",
       "                var nbb_unformatted_code = \"from random import sample\\n\\n\\ndef random_sample(X, y, samples):\\n\\n    ordered_indices = [num for num in range(samples)]\\n    random_indices = sample(ordered_indices, samples)\\n\\n    X = X[random_indices]\\n    y = y[random_indices]\\n\\n    return X, y\";\n",
       "                var nbb_formatted_code = \"from random import sample\\n\\n\\ndef random_sample(X, y, samples):\\n\\n    ordered_indices = [num for num in range(samples)]\\n    random_indices = sample(ordered_indices, samples)\\n\\n    X = X[random_indices]\\n    y = y[random_indices]\\n\\n    return X, y\";\n",
       "                var nbb_cells = Jupyter.notebook.get_cells();\n",
       "                for (var i = 0; i < nbb_cells.length; ++i) {\n",
       "                    if (nbb_cells[i].input_prompt_number == nbb_cell_id) {\n",
       "                        if (nbb_cells[i].get_text() == nbb_unformatted_code) {\n",
       "                             nbb_cells[i].set_text(nbb_formatted_code);\n",
       "                        }\n",
       "                        break;\n",
       "                    }\n",
       "                }\n",
       "            }, 500);\n",
       "            "
      ],
      "text/plain": [
       "<IPython.core.display.Javascript object>"
      ]
     },
     "metadata": {},
     "output_type": "display_data"
    }
   ],
   "source": [
    "from random import sample\n",
    "\n",
    "\n",
    "def random_sample(X, y, samples):\n",
    "\n",
    "    ordered_indices = [num for num in range(samples)]\n",
    "    random_indices = sample(ordered_indices, samples)\n",
    "\n",
    "    X = X[random_indices]\n",
    "    y = y[random_indices]\n",
    "\n",
    "    return X, y"
   ]
  },
  {
   "cell_type": "markdown",
   "metadata": {},
   "source": [
    "### Testing suite\n",
    "\n",
    "Testing function. Creates a DNN and a RF model based on the function attributes. Fits the models to the inputted data. Reruns model over a range of sample sizes for X, y data stored in the attribute sample_sizes. Reruns the entire testing suite for an inputted number of iterations to average out classification error."
   ]
  },
  {
   "cell_type": "code",
   "execution_count": 5,
   "metadata": {},
   "outputs": [
    {
     "data": {
      "application/javascript": [
       "\n",
       "            setTimeout(function() {\n",
       "                var nbb_cell_id = 5;\n",
       "                var nbb_unformatted_code = \"from sklearn.model_selection import train_test_split\\n\\n\\ndef test_suite(\\n    X,\\n    y,\\n    iterations,\\n    output_nodes,\\n    sample_sizes=[500, 1000, 2000, 3000, 5000, 7000, 10000, 15000, 20000, 30000],\\n    num_trees=100,\\n    max_depth=None,\\n    rf_verbose=1,\\n    epochs=10,\\n    batch_size=50,\\n    learning_rate=0.001,\\n    validation_split=0.3,\\n    dnn_verbose=1,\\n):\\n\\n    X = np.array(X, dtype=np.float32)\\n    y = np.array(y, dtype=np.float32)\\n\\n    rf_evolution = np.zeros((len(sample_sizes), iterations))\\n    dnn_evolution = np.zeros((len(sample_sizes), iterations))\\n\\n    for iteration in range(iterations):\\n        print(\\\"iteration: \\\", iteration)\\n\\n        for sample_size_index, max_sample_size in enumerate(sample_sizes):\\n            print(\\\"Max sample size: \\\", max_sample_size)\\n\\n            X_scaled, y_scaled = random_sample(X, y, max_sample_size)\\n            X_train, X_test, y_train, y_test = train_test_split(\\n                X_scaled, y_scaled, test_size=0.3, random_state=101\\n            )\\n\\n            rf_model = random_forest_classifier_model(\\n                X_train=X_train,\\n                y_train=y_train,\\n                num_trees=num_trees,\\n                max_depth=max_depth,\\n                verbose=rf_verbose,\\n            )\\n\\n            rf_predictions = rf_model.predict(X_test)\\n            rf_error = 1 - accuracy_score(y_test, rf_predictions)\\n\\n            rf_evolution[sample_size_index][iteration] = rf_error\\n\\n            if output_nodes == 1:\\n                dnn_model = binary_deep_neural_network(\\n                    X_train=X_train,\\n                    y_train=y_train,\\n                    epochs=epochs,\\n                    batch_size=batch_size,\\n                    learning_rate=learning_rate,\\n                    validation_split=validation_split,\\n                    verbose=dnn_verbose,\\n                )\\n            else:\\n                y_train = to_categorical(y_train, num_classes=output_nodes)\\n                y_test = to_categorical(y_test, num_classes=output_nodes)\\n\\n                dnn_model = multiclass_deep_neural_network(\\n                    X_train=X_train,\\n                    y_train=y_train,\\n                    epochs=epochs,\\n                    batch_size=batch_size,\\n                    learning_rate=learning_rate,\\n                    validation_split=validation_split,\\n                    output_nodes=output_nodes,\\n                    verbose=dnn_verbose,\\n                )\\n\\n            score = dnn_model.evaluate(\\n                X_test,\\n                y_test,\\n                batch_size=None,\\n                verbose=0,\\n                sample_weight=None,\\n                steps=None,\\n                callbacks=None,\\n                max_queue_size=10,\\n                workers=1,\\n                use_multiprocessing=False,\\n                return_dict=False,\\n            )\\n\\n            dnn_error = 1 - score[1]\\n            dnn_evolution[sample_size_index][iteration] = dnn_error\\n\\n    return rf_evolution, dnn_evolution\";\n",
       "                var nbb_formatted_code = \"from sklearn.model_selection import train_test_split\\n\\n\\ndef test_suite(\\n    X,\\n    y,\\n    iterations,\\n    output_nodes,\\n    sample_sizes=[500, 1000, 2000, 3000, 5000, 7000, 10000, 15000, 20000, 30000],\\n    num_trees=100,\\n    max_depth=None,\\n    rf_verbose=1,\\n    epochs=10,\\n    batch_size=50,\\n    learning_rate=0.001,\\n    validation_split=0.3,\\n    dnn_verbose=1,\\n):\\n\\n    X = np.array(X, dtype=np.float32)\\n    y = np.array(y, dtype=np.float32)\\n\\n    rf_evolution = np.zeros((len(sample_sizes), iterations))\\n    dnn_evolution = np.zeros((len(sample_sizes), iterations))\\n\\n    for iteration in range(iterations):\\n        print(\\\"iteration: \\\", iteration)\\n\\n        for sample_size_index, max_sample_size in enumerate(sample_sizes):\\n            print(\\\"Max sample size: \\\", max_sample_size)\\n\\n            X_scaled, y_scaled = random_sample(X, y, max_sample_size)\\n            X_train, X_test, y_train, y_test = train_test_split(\\n                X_scaled, y_scaled, test_size=0.3, random_state=101\\n            )\\n\\n            rf_model = random_forest_classifier_model(\\n                X_train=X_train,\\n                y_train=y_train,\\n                num_trees=num_trees,\\n                max_depth=max_depth,\\n                verbose=rf_verbose,\\n            )\\n\\n            rf_predictions = rf_model.predict(X_test)\\n            rf_error = 1 - accuracy_score(y_test, rf_predictions)\\n\\n            rf_evolution[sample_size_index][iteration] = rf_error\\n\\n            if output_nodes == 1:\\n                dnn_model = binary_deep_neural_network(\\n                    X_train=X_train,\\n                    y_train=y_train,\\n                    epochs=epochs,\\n                    batch_size=batch_size,\\n                    learning_rate=learning_rate,\\n                    validation_split=validation_split,\\n                    verbose=dnn_verbose,\\n                )\\n            else:\\n                y_train = to_categorical(y_train, num_classes=output_nodes)\\n                y_test = to_categorical(y_test, num_classes=output_nodes)\\n\\n                dnn_model = multiclass_deep_neural_network(\\n                    X_train=X_train,\\n                    y_train=y_train,\\n                    epochs=epochs,\\n                    batch_size=batch_size,\\n                    learning_rate=learning_rate,\\n                    validation_split=validation_split,\\n                    output_nodes=output_nodes,\\n                    verbose=dnn_verbose,\\n                )\\n\\n            score = dnn_model.evaluate(\\n                X_test,\\n                y_test,\\n                batch_size=None,\\n                verbose=0,\\n                sample_weight=None,\\n                steps=None,\\n                callbacks=None,\\n                max_queue_size=10,\\n                workers=1,\\n                use_multiprocessing=False,\\n                return_dict=False,\\n            )\\n\\n            dnn_error = 1 - score[1]\\n            dnn_evolution[sample_size_index][iteration] = dnn_error\\n\\n    return rf_evolution, dnn_evolution\";\n",
       "                var nbb_cells = Jupyter.notebook.get_cells();\n",
       "                for (var i = 0; i < nbb_cells.length; ++i) {\n",
       "                    if (nbb_cells[i].input_prompt_number == nbb_cell_id) {\n",
       "                        if (nbb_cells[i].get_text() == nbb_unformatted_code) {\n",
       "                             nbb_cells[i].set_text(nbb_formatted_code);\n",
       "                        }\n",
       "                        break;\n",
       "                    }\n",
       "                }\n",
       "            }, 500);\n",
       "            "
      ],
      "text/plain": [
       "<IPython.core.display.Javascript object>"
      ]
     },
     "metadata": {},
     "output_type": "display_data"
    }
   ],
   "source": [
    "from sklearn.model_selection import train_test_split\n",
    "\n",
    "\n",
    "def test_suite(\n",
    "    X,\n",
    "    y,\n",
    "    iterations,\n",
    "    output_nodes,\n",
    "    sample_sizes=[500, 1000, 2000, 3000, 5000, 7000, 10000, 15000, 20000, 30000],\n",
    "    num_trees=100,\n",
    "    max_depth=None,\n",
    "    rf_verbose=1,\n",
    "    epochs=10,\n",
    "    batch_size=50,\n",
    "    learning_rate=0.001,\n",
    "    validation_split=0.3,\n",
    "    dnn_verbose=1,\n",
    "):\n",
    "\n",
    "    X = np.array(X, dtype=np.float32)\n",
    "    y = np.array(y, dtype=np.float32)\n",
    "\n",
    "    rf_evolution = np.zeros((len(sample_sizes), iterations))\n",
    "    dnn_evolution = np.zeros((len(sample_sizes), iterations))\n",
    "\n",
    "    for iteration in range(iterations):\n",
    "        print(\"iteration: \", iteration)\n",
    "\n",
    "        for sample_size_index, max_sample_size in enumerate(sample_sizes):\n",
    "            print(\"Max sample size: \", max_sample_size)\n",
    "\n",
    "            X_scaled, y_scaled = random_sample(X, y, max_sample_size)\n",
    "            X_train, X_test, y_train, y_test = train_test_split(\n",
    "                X_scaled, y_scaled, test_size=0.3, random_state=101\n",
    "            )\n",
    "\n",
    "            rf_model = random_forest_classifier_model(\n",
    "                X_train=X_train,\n",
    "                y_train=y_train,\n",
    "                num_trees=num_trees,\n",
    "                max_depth=max_depth,\n",
    "                verbose=rf_verbose,\n",
    "            )\n",
    "\n",
    "            rf_predictions = rf_model.predict(X_test)\n",
    "            rf_error = 1 - accuracy_score(y_test, rf_predictions)\n",
    "\n",
    "            rf_evolution[sample_size_index][iteration] = rf_error\n",
    "\n",
    "            if output_nodes == 1:\n",
    "                dnn_model = binary_deep_neural_network(\n",
    "                    X_train=X_train,\n",
    "                    y_train=y_train,\n",
    "                    epochs=epochs,\n",
    "                    batch_size=batch_size,\n",
    "                    learning_rate=learning_rate,\n",
    "                    validation_split=validation_split,\n",
    "                    verbose=dnn_verbose,\n",
    "                )\n",
    "            else:\n",
    "                y_train = to_categorical(y_train, num_classes=output_nodes)\n",
    "                y_test = to_categorical(y_test, num_classes=output_nodes)\n",
    "\n",
    "                dnn_model = multiclass_deep_neural_network(\n",
    "                    X_train=X_train,\n",
    "                    y_train=y_train,\n",
    "                    epochs=epochs,\n",
    "                    batch_size=batch_size,\n",
    "                    learning_rate=learning_rate,\n",
    "                    validation_split=validation_split,\n",
    "                    output_nodes=output_nodes,\n",
    "                    verbose=dnn_verbose,\n",
    "                )\n",
    "\n",
    "            score = dnn_model.evaluate(\n",
    "                X_test,\n",
    "                y_test,\n",
    "                batch_size=None,\n",
    "                verbose=0,\n",
    "                sample_weight=None,\n",
    "                steps=None,\n",
    "                callbacks=None,\n",
    "                max_queue_size=10,\n",
    "                workers=1,\n",
    "                use_multiprocessing=False,\n",
    "                return_dict=False,\n",
    "            )\n",
    "\n",
    "            dnn_error = 1 - score[1]\n",
    "            dnn_evolution[sample_size_index][iteration] = dnn_error\n",
    "\n",
    "    return rf_evolution, dnn_evolution"
   ]
  },
  {
   "cell_type": "markdown",
   "metadata": {},
   "source": [
    "## Sparse Parity Dataset\n",
    "\n",
    "Sparse parity is a binary classification dataset. It can be thought of as a multivariate generalization of the noisy XOR problem. Creating the dataset requires two parameters: p, the total number of dimensions of the data, and p_star, the number of dimensions within the data that contain useful information about the class label (p_star < p)"
   ]
  },
  {
   "cell_type": "code",
   "execution_count": 6,
   "metadata": {},
   "outputs": [
    {
     "data": {
      "application/javascript": [
       "\n",
       "            setTimeout(function() {\n",
       "                var nbb_cell_id = 6;\n",
       "                var nbb_unformatted_code = \"X_parity = np.random.uniform(-1, 1, [35000, 14])\";\n",
       "                var nbb_formatted_code = \"X_parity = np.random.uniform(-1, 1, [35000, 14])\";\n",
       "                var nbb_cells = Jupyter.notebook.get_cells();\n",
       "                for (var i = 0; i < nbb_cells.length; ++i) {\n",
       "                    if (nbb_cells[i].input_prompt_number == nbb_cell_id) {\n",
       "                        if (nbb_cells[i].get_text() == nbb_unformatted_code) {\n",
       "                             nbb_cells[i].set_text(nbb_formatted_code);\n",
       "                        }\n",
       "                        break;\n",
       "                    }\n",
       "                }\n",
       "            }, 500);\n",
       "            "
      ],
      "text/plain": [
       "<IPython.core.display.Javascript object>"
      ]
     },
     "metadata": {},
     "output_type": "display_data"
    }
   ],
   "source": [
    "X_parity = np.random.uniform(-1, 1, [35000, 14])"
   ]
  },
  {
   "cell_type": "code",
   "execution_count": 7,
   "metadata": {},
   "outputs": [
    {
     "data": {
      "application/javascript": [
       "\n",
       "            setTimeout(function() {\n",
       "                var nbb_cell_id = 7;\n",
       "                var nbb_unformatted_code = \"def sparse_parity_labels(X, p_star):\\n    q = np.zeros(X.shape[0])\\n    y = np.where(X[:, :3] >= 0, 1, 0)\\n    return np.sum(y, axis=1) % 2\";\n",
       "                var nbb_formatted_code = \"def sparse_parity_labels(X, p_star):\\n    q = np.zeros(X.shape[0])\\n    y = np.where(X[:, :3] >= 0, 1, 0)\\n    return np.sum(y, axis=1) % 2\";\n",
       "                var nbb_cells = Jupyter.notebook.get_cells();\n",
       "                for (var i = 0; i < nbb_cells.length; ++i) {\n",
       "                    if (nbb_cells[i].input_prompt_number == nbb_cell_id) {\n",
       "                        if (nbb_cells[i].get_text() == nbb_unformatted_code) {\n",
       "                             nbb_cells[i].set_text(nbb_formatted_code);\n",
       "                        }\n",
       "                        break;\n",
       "                    }\n",
       "                }\n",
       "            }, 500);\n",
       "            "
      ],
      "text/plain": [
       "<IPython.core.display.Javascript object>"
      ]
     },
     "metadata": {},
     "output_type": "display_data"
    }
   ],
   "source": [
    "def sparse_parity_labels(X, p_star):\n",
    "    q = np.zeros(X.shape[0])\n",
    "    y = np.where(X[:, :3] >= 0, 1, 0)\n",
    "    return np.sum(y, axis=1) % 2"
   ]
  },
  {
   "cell_type": "code",
   "execution_count": 8,
   "metadata": {},
   "outputs": [
    {
     "data": {
      "application/javascript": [
       "\n",
       "            setTimeout(function() {\n",
       "                var nbb_cell_id = 8;\n",
       "                var nbb_unformatted_code = \"y_parity = sparse_parity_labels(X_parity, 3)\";\n",
       "                var nbb_formatted_code = \"y_parity = sparse_parity_labels(X_parity, 3)\";\n",
       "                var nbb_cells = Jupyter.notebook.get_cells();\n",
       "                for (var i = 0; i < nbb_cells.length; ++i) {\n",
       "                    if (nbb_cells[i].input_prompt_number == nbb_cell_id) {\n",
       "                        if (nbb_cells[i].get_text() == nbb_unformatted_code) {\n",
       "                             nbb_cells[i].set_text(nbb_formatted_code);\n",
       "                        }\n",
       "                        break;\n",
       "                    }\n",
       "                }\n",
       "            }, 500);\n",
       "            "
      ],
      "text/plain": [
       "<IPython.core.display.Javascript object>"
      ]
     },
     "metadata": {},
     "output_type": "display_data"
    }
   ],
   "source": [
    "y_parity = sparse_parity_labels(X_parity, 3)"
   ]
  },
  {
   "cell_type": "code",
   "execution_count": 9,
   "metadata": {},
   "outputs": [
    {
     "data": {
      "text/plain": [
       "(35000, 14)"
      ]
     },
     "execution_count": 9,
     "metadata": {},
     "output_type": "execute_result"
    },
    {
     "data": {
      "application/javascript": [
       "\n",
       "            setTimeout(function() {\n",
       "                var nbb_cell_id = 9;\n",
       "                var nbb_unformatted_code = \"np.array(X_parity, dtype=np.float32).shape\";\n",
       "                var nbb_formatted_code = \"np.array(X_parity, dtype=np.float32).shape\";\n",
       "                var nbb_cells = Jupyter.notebook.get_cells();\n",
       "                for (var i = 0; i < nbb_cells.length; ++i) {\n",
       "                    if (nbb_cells[i].input_prompt_number == nbb_cell_id) {\n",
       "                        if (nbb_cells[i].get_text() == nbb_unformatted_code) {\n",
       "                             nbb_cells[i].set_text(nbb_formatted_code);\n",
       "                        }\n",
       "                        break;\n",
       "                    }\n",
       "                }\n",
       "            }, 500);\n",
       "            "
      ],
      "text/plain": [
       "<IPython.core.display.Javascript object>"
      ]
     },
     "metadata": {},
     "output_type": "display_data"
    }
   ],
   "source": [
    "np.array(X_parity, dtype=np.float32).shape"
   ]
  },
  {
   "cell_type": "code",
   "execution_count": null,
   "metadata": {},
   "outputs": [],
   "source": [
    "sample_sizes = [\n",
    "    500,\n",
    "    1000,\n",
    "    2000,\n",
    "    3000,\n",
    "    5000,\n",
    "    7000,\n",
    "    10000,\n",
    "    12500,\n",
    "    15000,\n",
    "    20000,\n",
    "    25000,\n",
    "    30000,\n",
    "    35000,\n",
    "]\n",
    "\n",
    "rf_evolution_parity, dnn_evolution_parity = test_suite(\n",
    "    X_parity,\n",
    "    y_parity,\n",
    "    iterations=20,\n",
    "    output_nodes=1,\n",
    "    sample_sizes=sample_sizes,\n",
    "    num_trees=500,\n",
    "    rf_verbose=1,\n",
    "    batch_size=8,\n",
    ")"
   ]
  },
  {
   "cell_type": "code",
   "execution_count": 11,
   "metadata": {},
   "outputs": [
    {
     "data": {
      "image/png": "[encoded data removed]",
      "text/plain": [
       "<Figure size 576x432 with 1 Axes>"
      ]
     },
     "metadata": {
      "needs_background": "light"
     },
     "output_type": "display_data"
    },
    {
     "data": {
      "application/javascript": [
       "\n",
       "            setTimeout(function() {\n",
       "                var nbb_cell_id = 11;\n",
       "                var nbb_unformatted_code = \"dnn_evolution_mean = np.mean(dnn_evolution_parity, axis=1)\\nrf_evolution_mean = np.mean(rf_evolution_parity, axis=1)\\n\\nfig = plt.figure(figsize=(8, 6))\\nax = plt.subplot(111)\\nax.plot(sample_sizes, dnn_evolution_mean, \\\"b\\\", linewidth=2.5)\\nax.plot(sample_sizes, rf_evolution_mean, \\\"r\\\", linewidth=2.5)\\nplt.title(\\\"RF vs DN on Sparse Parity Distribution\\\", fontsize=14)\\nplt.xlabel(\\\"Number of Training Samples\\\", fontsize=14)\\nplt.ylabel(\\\"Classification Error\\\", fontsize=14)\\nplt.legend([\\\"DN\\\", \\\"RF\\\"], prop={\\\"size\\\": 16})\\n\\nfig.savefig(\\\"sparse_parity_p14_3_ss35000_DN_14_8_1_RF_100_trs_20_iters_8_bs.png\\\")\";\n",
       "                var nbb_formatted_code = \"dnn_evolution_mean = np.mean(dnn_evolution_parity, axis=1)\\nrf_evolution_mean = np.mean(rf_evolution_parity, axis=1)\\n\\nfig = plt.figure(figsize=(8, 6))\\nax = plt.subplot(111)\\nax.plot(sample_sizes, dnn_evolution_mean, \\\"b\\\", linewidth=2.5)\\nax.plot(sample_sizes, rf_evolution_mean, \\\"r\\\", linewidth=2.5)\\nplt.title(\\\"RF vs DN on Sparse Parity Distribution\\\", fontsize=14)\\nplt.xlabel(\\\"Number of Training Samples\\\", fontsize=14)\\nplt.ylabel(\\\"Classification Error\\\", fontsize=14)\\nplt.legend([\\\"DN\\\", \\\"RF\\\"], prop={\\\"size\\\": 16})\\n\\nfig.savefig(\\\"sparse_parity_p14_3_ss35000_DN_14_8_1_RF_100_trs_20_iters_8_bs.png\\\")\";\n",
       "                var nbb_cells = Jupyter.notebook.get_cells();\n",
       "                for (var i = 0; i < nbb_cells.length; ++i) {\n",
       "                    if (nbb_cells[i].input_prompt_number == nbb_cell_id) {\n",
       "                        if (nbb_cells[i].get_text() == nbb_unformatted_code) {\n",
       "                             nbb_cells[i].set_text(nbb_formatted_code);\n",
       "                        }\n",
       "                        break;\n",
       "                    }\n",
       "                }\n",
       "            }, 500);\n",
       "            "
      ],
      "text/plain": [
       "<IPython.core.display.Javascript object>"
      ]
     },
     "metadata": {},
     "output_type": "display_data"
    }
   ],
   "source": [
    "dnn_evolution_mean = np.mean(dnn_evolution_parity, axis=1)\n",
    "rf_evolution_mean = np.mean(rf_evolution_parity, axis=1)\n",
    "\n",
    "fig = plt.figure(figsize=(8, 6))\n",
    "ax = plt.subplot(111)\n",
    "ax.plot(sample_sizes, dnn_evolution_mean, \"b\", linewidth=2.5)\n",
    "ax.plot(sample_sizes, rf_evolution_mean, \"r\", linewidth=2.5)\n",
    "plt.title(\"RF vs DN on Sparse Parity Distribution\", fontsize=14)\n",
    "plt.xlabel(\"Number of Training Samples\", fontsize=14)\n",
    "plt.ylabel(\"Classification Error\", fontsize=14)\n",
    "plt.legend([\"DN\", \"RF\"], prop={\"size\": 16})\n",
    "\n",
    "fig.savefig(\"sparse_parity_p14_3_ss35000_DN_14_8_1_RF_100_trs_20_iters_8_bs.png\")"
   ]
  },
  {
   "cell_type": "code",
   "execution_count": null,
   "metadata": {},
   "outputs": [],
   "source": []
  },
  {
   "cell_type": "code",
   "execution_count": 13,
   "metadata": {},
   "outputs": [
    {
     "data": {
      "application/javascript": [
       "\n",
       "            setTimeout(function() {\n",
       "                var nbb_cell_id = 13;\n",
       "                var nbb_unformatted_code = \"dnn_parity_20_iters_14_3 = dnn_evolution_parity\\nrf_parity_20_iters_14_3 = rf_evolution_parity\";\n",
       "                var nbb_formatted_code = \"dnn_parity_20_iters_14_3 = dnn_evolution_parity\\nrf_parity_20_iters_14_3 = rf_evolution_parity\";\n",
       "                var nbb_cells = Jupyter.notebook.get_cells();\n",
       "                for (var i = 0; i < nbb_cells.length; ++i) {\n",
       "                    if (nbb_cells[i].input_prompt_number == nbb_cell_id) {\n",
       "                        if (nbb_cells[i].get_text() == nbb_unformatted_code) {\n",
       "                             nbb_cells[i].set_text(nbb_formatted_code);\n",
       "                        }\n",
       "                        break;\n",
       "                    }\n",
       "                }\n",
       "            }, 500);\n",
       "            "
      ],
      "text/plain": [
       "<IPython.core.display.Javascript object>"
      ]
     },
     "metadata": {},
     "output_type": "display_data"
    }
   ],
   "source": [
    "dnn_parity_20_iters_14_3 = dnn_evolution_parity\n",
    "rf_parity_20_iters_14_3 = rf_evolution_parity"
   ]
  },
  {
   "cell_type": "code",
   "execution_count": 15,
   "metadata": {},
   "outputs": [
    {
     "name": "stdout",
     "output_type": "stream",
     "text": [
      "Stored 'dnn_parity_20_iters_14_3' (ndarray)\n",
      "Stored 'rf_parity_20_iters_14_3' (ndarray)\n"
     ]
    },
    {
     "data": {
      "application/javascript": [
       "\n",
       "            setTimeout(function() {\n",
       "                var nbb_cell_id = 15;\n",
       "                var nbb_unformatted_code = \"%store dnn_parity_20_iters_14_3\\n%store rf_parity_20_iters_14_3\";\n",
       "                var nbb_formatted_code = \"%store dnn_parity_20_iters_14_3\\n%store rf_parity_20_iters_14_3\";\n",
       "                var nbb_cells = Jupyter.notebook.get_cells();\n",
       "                for (var i = 0; i < nbb_cells.length; ++i) {\n",
       "                    if (nbb_cells[i].input_prompt_number == nbb_cell_id) {\n",
       "                        if (nbb_cells[i].get_text() == nbb_unformatted_code) {\n",
       "                             nbb_cells[i].set_text(nbb_formatted_code);\n",
       "                        }\n",
       "                        break;\n",
       "                    }\n",
       "                }\n",
       "            }, 500);\n",
       "            "
      ],
      "text/plain": [
       "<IPython.core.display.Javascript object>"
      ]
     },
     "metadata": {},
     "output_type": "display_data"
    }
   ],
   "source": [
    "%store dnn_parity_20_iters_14_3\n",
    "%store rf_parity_20_iters_14_3"
   ]
  },
  {
   "cell_type": "code",
   "execution_count": 63,
   "metadata": {},
   "outputs": [
    {
     "name": "stdout",
     "output_type": "stream",
     "text": [
      "DNN accuracies\n",
      "\n",
      " [[0.59999999 0.50666666 0.48000002 0.45333332 0.53333333 0.44\n",
      "  0.50666666 0.59333333 0.45333332 0.46666664 0.61333334 0.44666666\n",
      "  0.49333334 0.58000001 0.45333332 0.49333334 0.48000002 0.50666666\n",
      "  0.49333334 0.43333334]\n",
      " [0.49666667 0.46333331 0.48666668 0.51666668 0.53333333 0.5\n",
      "  0.51333332 0.45666665 0.50333333 0.52000001 0.49000001 0.48000002\n",
      "  0.53666666 0.53666666 0.51666668 0.50666666 0.48000002 0.47000003\n",
      "  0.56       0.43000001]\n",
      " [0.48500001 0.49000001 0.48333335 0.48666668 0.50666666 0.495\n",
      "  0.47666669 0.48666668 0.51333332 0.45166665 0.45666665 0.50166667\n",
      "  0.45333332 0.49833333 0.54333332 0.47500002 0.50333333 0.45499998\n",
      "  0.48500001 0.46166664]\n",
      " [0.4577778  0.49555558 0.44666666 0.45666665 0.5        0.44222224\n",
      "  0.43666667 0.46777779 0.44777775 0.46555555 0.35555553 0.46111113\n",
      "  0.49222225 0.48000002 0.45444447 0.46222222 0.45888889 0.4911111\n",
      "  0.45222223 0.48555553]\n",
      " [0.37599999 0.19400001 0.18533331 0.31400001 0.296      0.26533335\n",
      "  0.27200001 0.102      0.29666668 0.21866667 0.30866665 0.30333334\n",
      "  0.34866667 0.30133331 0.32533336 0.22533333 0.34933335 0.21799999\n",
      "  0.27533334 0.45133334]\n",
      " [0.10285717 0.10142857 0.06619048 0.27761906 0.1395238  0.15142858\n",
      "  0.08380949 0.30190474 0.15428573 0.1257143  0.15380955 0.16000003\n",
      "  0.07047617 0.1509524  0.12857145 0.18142855 0.16285712 0.17190474\n",
      "  0.13904762 0.18285716]\n",
      " [0.08566666 0.09799999 0.06166667 0.12266666 0.03133333 0.09399998\n",
      "  0.08099997 0.16533333 0.065      0.083      0.11799997 0.10333335\n",
      "  0.088      0.07800001 0.12966669 0.07133335 0.12966669 0.11266667\n",
      "  0.06966668 0.03566664]\n",
      " [0.07120001 0.09920001 0.06586665 0.04960001 0.07653332 0.05253333\n",
      "  0.09173334 0.09039998 0.03626668 0.05839998 0.05626667 0.05199999\n",
      "  0.07146668 0.05839998 0.07893336 0.07200003 0.08693331 0.08426666\n",
      "  0.08586669 0.0848    ]\n",
      " [0.0508889  0.03777778 0.06644446 0.03600001 0.08066666 0.08111113\n",
      "  0.02955556 0.08488888 0.06       0.08511108 0.04555553 0.02844447\n",
      "  0.04955554 0.06599998 0.0508889  0.07822222 0.05777776 0.02622223\n",
      "  0.07866669 0.06444442]\n",
      " [0.05233335 0.042      0.04466665 0.05699998 0.08716667 0.03549999\n",
      "  0.03033334 0.05049998 0.03100002 0.0575     0.02950001 0.04583335\n",
      "  0.02183336 0.03833336 0.04433334 0.04616666 0.0423333  0.06066668\n",
      "  0.03183335 0.0423333 ]\n",
      " [0.0405333  0.03613335 0.05093336 0.06626666 0.02466667 0.05933332\n",
      "  0.02093333 0.01386666 0.03719997 0.03746665 0.04586667 0.0581333\n",
      "  0.02280003 0.04759997 0.04479998 0.01160002 0.04360002 0.03399998\n",
      "  0.0388     0.03333336]\n",
      " [0.05455554 0.05566669 0.04555553 0.03333336 0.0421111  0.05466664\n",
      "  0.05288887 0.02544445 0.02744442 0.04255557 0.01555556 0.0458889\n",
      "  0.01444447 0.05699998 0.01844442 0.05411112 0.03044444 0.0562222\n",
      "  0.0332222  0.02111113]\n",
      " [0.01866668 0.02809525 0.0224762  0.03609526 0.02809525 0.03723812\n",
      "  0.02466667 0.03161907 0.01990473 0.02876192 0.03638095 0.0447619\n",
      "  0.02552378 0.02142859 0.01723808 0.02333331 0.03247619 0.02714288\n",
      "  0.02561903 0.02600002]]\n",
      "\n",
      "RF accuracies\n",
      "\n",
      " [[0.50666667 0.54       0.5        0.46666667 0.54666667 0.52\n",
      "  0.42666667 0.49333333 0.43333333 0.51333333 0.44       0.45333333\n",
      "  0.49333333 0.58666667 0.45333333 0.52666667 0.40666667 0.46666667\n",
      "  0.41333333 0.45333333]\n",
      " [0.44666667 0.48666667 0.42666667 0.45       0.40333333 0.43333333\n",
      "  0.42666667 0.42       0.44333333 0.43333333 0.37666667 0.40666667\n",
      "  0.45666667 0.44666667 0.44333333 0.4        0.44666667 0.5\n",
      "  0.41666667 0.39      ]\n",
      " [0.385      0.43       0.39833333 0.41333333 0.36666667 0.4\n",
      "  0.36166667 0.35333333 0.37833333 0.36       0.42333333 0.4\n",
      "  0.365      0.37       0.43333333 0.38       0.34166667 0.36166667\n",
      "  0.43333333 0.44666667]\n",
      " [0.29888889 0.28333333 0.37       0.29888889 0.29777778 0.37333333\n",
      "  0.27666667 0.30777778 0.36333333 0.27777778 0.26666667 0.29\n",
      "  0.32111111 0.33333333 0.33444444 0.36666667 0.32333333 0.33\n",
      "  0.37       0.28444444]\n",
      " [0.26133333 0.11133333 0.24       0.15866667 0.29       0.208\n",
      "  0.21733333 0.122      0.18533333 0.15933333 0.20466667 0.23133333\n",
      "  0.25       0.126      0.20866667 0.21066667 0.15133333 0.22266667\n",
      "  0.258      0.19266667]\n",
      " [0.16428571 0.22952381 0.17761905 0.11857143 0.1752381  0.17047619\n",
      "  0.17571429 0.17619048 0.08428571 0.23190476 0.16285714 0.20571429\n",
      "  0.23761905 0.17190476 0.21809524 0.23333333 0.20190476 0.09952381\n",
      "  0.16       0.19095238]\n",
      " [0.073      0.15766667 0.12866667 0.133      0.074      0.079\n",
      "  0.10266667 0.09933333 0.16833333 0.132      0.06666667 0.182\n",
      "  0.07566667 0.10766667 0.12533333 0.06266667 0.09433333 0.105\n",
      "  0.10433333 0.04733333]\n",
      " [0.08666667 0.12986667 0.11973333 0.12053333 0.1024     0.1088\n",
      "  0.11466667 0.12506667 0.13546667 0.13626667 0.08346667 0.0784\n",
      "  0.10906667 0.1248     0.11146667 0.06986667 0.11493333 0.08746667\n",
      "  0.0736     0.08693333]\n",
      " [0.12466667 0.11066667 0.06822222 0.11222222 0.12688889 0.052\n",
      "  0.10511111 0.04422222 0.10311111 0.03355556 0.08111111 0.06777778\n",
      "  0.042      0.12688889 0.05622222 0.10777778 0.07488889 0.11111111\n",
      "  0.05977778 0.05466667]\n",
      " [0.06516667 0.03083333 0.09016667 0.0265     0.029      0.031\n",
      "  0.04116667 0.0485     0.07066667 0.08233333 0.01833333 0.0205\n",
      "  0.06916667 0.075      0.04066667 0.04133333 0.01883333 0.0655\n",
      "  0.03666667 0.07566667]\n",
      " [0.0272     0.01293333 0.03333333 0.0308     0.0372     0.04173333\n",
      "  0.02506667 0.0352     0.06946667 0.02706667 0.02333333 0.0332\n",
      "  0.0424     0.02706667 0.00893333 0.01253333 0.02786667 0.01266667\n",
      "  0.01506667 0.03973333]\n",
      " [0.01466667 0.03122222 0.01955556 0.00955556 0.022      0.04277778\n",
      "  0.04433333 0.03711111 0.01522222 0.00644444 0.01688889 0.02144444\n",
      "  0.01155556 0.01333333 0.02322222 0.01444444 0.01133333 0.00833333\n",
      "  0.00855556 0.00522222]\n",
      " [0.00990476 0.01504762 0.00942857 0.01885714 0.018      0.01485714\n",
      "  0.02638095 0.01561905 0.02847619 0.0107619  0.01952381 0.02685714\n",
      "  0.01485714 0.02114286 0.02647619 0.02657143 0.01095238 0.00333333\n",
      "  0.0292381  0.0192381 ]]\n"
     ]
    },
    {
     "data": {
      "application/javascript": [
       "\n",
       "            setTimeout(function() {\n",
       "                var nbb_cell_id = 63;\n",
       "                var nbb_unformatted_code = \"print(\\\"DNN accuracies\\\\n\\\\n\\\", dnn_parity_20_iters_14_3)\\nprint(\\\"\\\\nRF accuracies\\\\n\\\\n\\\", rf_parity_20_iters_14_3)\";\n",
       "                var nbb_formatted_code = \"print(\\\"DNN accuracies\\\\n\\\\n\\\", dnn_parity_20_iters_14_3)\\nprint(\\\"\\\\nRF accuracies\\\\n\\\\n\\\", rf_parity_20_iters_14_3)\";\n",
       "                var nbb_cells = Jupyter.notebook.get_cells();\n",
       "                for (var i = 0; i < nbb_cells.length; ++i) {\n",
       "                    if (nbb_cells[i].input_prompt_number == nbb_cell_id) {\n",
       "                        if (nbb_cells[i].get_text() == nbb_unformatted_code) {\n",
       "                             nbb_cells[i].set_text(nbb_formatted_code);\n",
       "                        }\n",
       "                        break;\n",
       "                    }\n",
       "                }\n",
       "            }, 500);\n",
       "            "
      ],
      "text/plain": [
       "<IPython.core.display.Javascript object>"
      ]
     },
     "metadata": {},
     "output_type": "display_data"
    }
   ],
   "source": [
    "print(\"DNN accuracies\\n\\n\", dnn_parity_20_iters_14_3)\n",
    "print(\"\\nRF accuracies\\n\\n\", rf_parity_20_iters_14_3)"
   ]
  },
  {
   "cell_type": "code",
   "execution_count": 64,
   "metadata": {},
   "outputs": [
    {
     "data": {
      "application/javascript": [
       "\n",
       "            setTimeout(function() {\n",
       "                var nbb_cell_id = 64;\n",
       "                var nbb_unformatted_code = \"yerr_dn = stats.sem(dnn_parity_20_iters_14_3, axis=1)\\nyerr_rf = stats.sem(rf_parity_20_iters_14_3, axis=1)\";\n",
       "                var nbb_formatted_code = \"yerr_dn = stats.sem(dnn_parity_20_iters_14_3, axis=1)\\nyerr_rf = stats.sem(rf_parity_20_iters_14_3, axis=1)\";\n",
       "                var nbb_cells = Jupyter.notebook.get_cells();\n",
       "                for (var i = 0; i < nbb_cells.length; ++i) {\n",
       "                    if (nbb_cells[i].input_prompt_number == nbb_cell_id) {\n",
       "                        if (nbb_cells[i].get_text() == nbb_unformatted_code) {\n",
       "                             nbb_cells[i].set_text(nbb_formatted_code);\n",
       "                        }\n",
       "                        break;\n",
       "                    }\n",
       "                }\n",
       "            }, 500);\n",
       "            "
      ],
      "text/plain": [
       "<IPython.core.display.Javascript object>"
      ]
     },
     "metadata": {},
     "output_type": "display_data"
    }
   ],
   "source": [
    "yerr_dn = stats.sem(dnn_parity_20_iters_14_3, axis=1)\n",
    "yerr_rf = stats.sem(rf_parity_20_iters_14_3, axis=1)"
   ]
  },
  {
   "cell_type": "code",
   "execution_count": 66,
   "metadata": {},
   "outputs": [
    {
     "data": {
      "image/png": "[encoded data removed]",
      "text/plain": [
       "<Figure size 576x432 with 1 Axes>"
      ]
     },
     "metadata": {
      "needs_background": "light"
     },
     "output_type": "display_data"
    },
    {
     "data": {
      "application/javascript": [
       "\n",
       "            setTimeout(function() {\n",
       "                var nbb_cell_id = 66;\n",
       "                var nbb_unformatted_code = \"dnn_evolution_mean = np.mean(dnn_parity_20_iters_14_3, axis=1)\\nrf_evolution_mean = np.mean(rf_parity_20_iters_14_3, axis=1)\\n\\nfig = plt.figure(figsize=(8, 6))\\nax = plt.subplot(111)\\nax.errorbar(\\n    sample_sizes, dnn_evolution_mean, yerr=yerr_dn, linewidth=2.5, c=\\\"b\\\", alpha=0.7\\n)\\nax.errorbar(\\n    sample_sizes, rf_evolution_mean, yerr=yerr_rf, linewidth=2.5, c=\\\"r\\\", alpha=0.7\\n)\\nplt.title(\\\"RF vs DN on Sparse Parity Distribution\\\", fontsize=14)\\nplt.xlabel(\\\"Number of Training Samples\\\", fontsize=14)\\nplt.ylabel(\\\"Classification Error\\\", fontsize=14)\\nplt.legend([\\\"DN with standard error\\\", \\\"RF with standard error\\\"], prop={\\\"size\\\": 14})\\n\\nfig.savefig(\\\"sparse_parity_p14_3_ss35000_DN_14_8_1_RF_100_trs_20_iters_8_bs_eb.png\\\")\";\n",
       "                var nbb_formatted_code = \"dnn_evolution_mean = np.mean(dnn_parity_20_iters_14_3, axis=1)\\nrf_evolution_mean = np.mean(rf_parity_20_iters_14_3, axis=1)\\n\\nfig = plt.figure(figsize=(8, 6))\\nax = plt.subplot(111)\\nax.errorbar(\\n    sample_sizes, dnn_evolution_mean, yerr=yerr_dn, linewidth=2.5, c=\\\"b\\\", alpha=0.7\\n)\\nax.errorbar(\\n    sample_sizes, rf_evolution_mean, yerr=yerr_rf, linewidth=2.5, c=\\\"r\\\", alpha=0.7\\n)\\nplt.title(\\\"RF vs DN on Sparse Parity Distribution\\\", fontsize=14)\\nplt.xlabel(\\\"Number of Training Samples\\\", fontsize=14)\\nplt.ylabel(\\\"Classification Error\\\", fontsize=14)\\nplt.legend([\\\"DN with standard error\\\", \\\"RF with standard error\\\"], prop={\\\"size\\\": 14})\\n\\nfig.savefig(\\\"sparse_parity_p14_3_ss35000_DN_14_8_1_RF_100_trs_20_iters_8_bs_eb.png\\\")\";\n",
       "                var nbb_cells = Jupyter.notebook.get_cells();\n",
       "                for (var i = 0; i < nbb_cells.length; ++i) {\n",
       "                    if (nbb_cells[i].input_prompt_number == nbb_cell_id) {\n",
       "                        if (nbb_cells[i].get_text() == nbb_unformatted_code) {\n",
       "                             nbb_cells[i].set_text(nbb_formatted_code);\n",
       "                        }\n",
       "                        break;\n",
       "                    }\n",
       "                }\n",
       "            }, 500);\n",
       "            "
      ],
      "text/plain": [
       "<IPython.core.display.Javascript object>"
      ]
     },
     "metadata": {},
     "output_type": "display_data"
    }
   ],
   "source": [
    "dnn_evolution_mean = np.mean(dnn_parity_20_iters_14_3, axis=1)\n",
    "rf_evolution_mean = np.mean(rf_parity_20_iters_14_3, axis=1)\n",
    "\n",
    "fig = plt.figure(figsize=(8, 6))\n",
    "ax = plt.subplot(111)\n",
    "ax.errorbar(\n",
    "    sample_sizes, dnn_evolution_mean, yerr=yerr_dn, linewidth=2.5, c=\"b\", alpha=0.7\n",
    ")\n",
    "ax.errorbar(\n",
    "    sample_sizes, rf_evolution_mean, yerr=yerr_rf, linewidth=2.5, c=\"r\", alpha=0.7\n",
    ")\n",
    "plt.title(\"RF vs DN on Sparse Parity Distribution\", fontsize=14)\n",
    "plt.xlabel(\"Number of Training Samples\", fontsize=14)\n",
    "plt.ylabel(\"Classification Error\", fontsize=14)\n",
    "plt.legend([\"DN with standard error\", \"RF with standard error\"], prop={\"size\": 14})\n",
    "\n",
    "fig.savefig(\"sparse_parity_p14_3_ss35000_DN_14_8_1_RF_100_trs_20_iters_8_bs_eb.png\")"
   ]
  },
  {
   "cell_type": "code",
   "execution_count": null,
   "metadata": {},
   "outputs": [],
   "source": []
  },
  {
   "cell_type": "code",
   "execution_count": null,
   "metadata": {},
   "outputs": [],
   "source": [
    "X_parity = np.random.uniform(-1, 1, [35000, 14])\n",
    "def sparse_parity_labels(X, p_star):\n",
    "    q = np.zeros(X.shape[0])\n",
    "    y = np.where(X[:, :3] >= 0, 1, 0)\n",
    "    return np.sum(y, axis=1) % 2"
   ]
  },
  {
   "cell_type": "code",
   "execution_count": null,
   "metadata": {},
   "outputs": [],
   "source": [
    "# Test code for visualizing only rf evolution\n",
    "\n",
    "from sklearn.ensemble import RandomForestClassifier\n",
    "from sklearn.model_selection import train_test_split\n",
    "\n",
    "sample_sizes = [500, 1000, 2000, 3000, 5000, 7000, 10000, 15000, 20000, 30000]\n",
    "num_trees = 100\n",
    "max_depth = None\n",
    "verbose = 2\n",
    "\n",
    "X_parity = np.array(X_parity, dtype=np.float32)\n",
    "y_parity = np.array(y_parity, dtype=np.float32)\n",
    "\n",
    "rf_evolution = np.zeros((len(sample_sizes), 5))\n",
    "\n",
    "for iteration in range(5):\n",
    "    print(\"iteration: \", iteration)\n",
    "\n",
    "    for sample_size_index, max_sample_size in enumerate(sample_sizes):\n",
    "        print(\"Max sample size: \", max_sample_size)\n",
    "\n",
    "        X_scaled, y_scaled = random_sample(X_parity, y_parity, max_sample_size)\n",
    "        X_train, X_test, y_train, y_test = train_test_split(\n",
    "            X_scaled, y_scaled, test_size=0.3, random_state=101\n",
    "        )\n",
    "\n",
    "        rf_model = RandomForestClassifier(\n",
    "            n_estimators=num_trees, max_depth=max_depth, verbose=verbose\n",
    "        )\n",
    "        rf_model.fit(X_train, y_train)\n",
    "\n",
    "        rf_predictions = rf_model.predict(X_test)\n",
    "        rf_error = 1 - accuracy_score(y_test, rf_predictions)\n",
    "\n",
    "        rf_evolution[sample_size_index][iteration] = rf_error\n",
    "\n",
    "rf_evolution"
   ]
  },
  {
   "cell_type": "code",
   "execution_count": null,
   "metadata": {
    "scrolled": true
   },
   "outputs": [],
   "source": [
    "rf_evolution_mean = np.mean(rf_evolution, axis=1)\n",
    "\n",
    "fig = plt.figure(figsize=(8, 6))\n",
    "ax = plt.subplot(111)\n",
    "ax.plot(sample_sizes, rf_evolution_mean, \"r\", linewidth=2.5)\n",
    "plt.title(\"RF on Sparse Parity Distribution\", fontsize=14)\n",
    "plt.xlabel(\"Number of Training Samples\", fontsize=14)\n",
    "plt.ylabel(\"Classification Error\", fontsize=14)\n"
   ]
  },
  {
   "cell_type": "code",
   "execution_count": null,
   "metadata": {},
   "outputs": [],
   "source": []
  },
  {
   "cell_type": "code",
   "execution_count": null,
   "metadata": {},
   "outputs": [],
   "source": []
  }
 ],
 "metadata": {
  "kernelspec": {
   "display_name": "Python 3",
   "language": "python",
   "name": "python3"
  },
  "language_info": {
   "codemirror_mode": {
    "name": "ipython",
    "version": 3
   },
   "file_extension": ".py",
   "mimetype": "text/x-python",
   "name": "python",
   "nbconvert_exporter": "python",
   "pygments_lexer": "ipython3",
   "version": "3.7.6"
  }
 },
 "nbformat": 4,
 "nbformat_minor": 4
}
