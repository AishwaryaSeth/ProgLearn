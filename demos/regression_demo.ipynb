{
 "cells": [
  {
   "cell_type": "code",
   "execution_count": 1,
   "metadata": {},
   "outputs": [],
   "source": [
    "import numpy as np\n",
    "import seaborn as sns\n",
    "import matplotlib.pyplot as plt\n",
    "\n",
    "from sklearn.utils.validation import check_X_y, check_array\n",
    "from sklearn.model_selection import train_test_split\n",
    "from sklearn.metrics import mean_absolute_error\n",
    "\n",
    "from tensorflow import keras\n",
    "from keras.layers import Input, Dense, Dropout"
   ]
  },
  {
   "cell_type": "code",
   "execution_count": 2,
   "metadata": {},
   "outputs": [],
   "source": [
    "from proglearn.progressive_learner import ProgressiveLearner\n",
    "from proglearn.transformers import NeuralRegressionTransformer\n",
    "from proglearn.voters import NeuralRegressionVoter\n",
    "from proglearn.deciders import KNNRegressionDecider, NeuralRegressionDecider"
   ]
  },
  {
   "cell_type": "markdown",
   "metadata": {},
   "source": [
    "This notebook test the progressive learning regression methodology on a few toy multitasks with known outcomes, to see if it can successfully learn and share representations. In all cases, three tasks are presented. Each are regression of a single real-valued response on a real-valued, $d$ dimensional vector. In all cases, the vector will be scaled, have some known transformation applied to it (common for all tasks), and then another vote-decision function that maps it to the output (which differs for each task). The following three multitask then differ on the following five parameters: how the input is sampled, which common transformer, and which vote-decision to use for each of the three subtasks."
   ]
  },
  {
   "cell_type": "code",
   "execution_count": 3,
   "metadata": {},
   "outputs": [],
   "source": [
    "# n is the per-task sample size.\n",
    "def generate_data(n, d, transform, vote, sigma = 1):\n",
    "    X = np.random.randn(n, d)\n",
    "    y = vote(transform(X)) + np.random.normal(loc=0.0, scale=sigma, size=n)\n",
    "    \n",
    "    return X, y\n",
    "\n",
    "def plot_data(data):\n",
    "    sns.set(font_scale = 1.5)\n",
    "    sns.set_style(\"ticks\")\n",
    "    plt.rcParams[\"font.family\"] = \"sans-serif\"\n",
    "    fig, ax = plt.subplots(1, 1, figsize = (5,4))\n",
    "    \n",
    "    colors = [\"#c51b7d\", \"#2166ac\", \"#d95f02\"]\n",
    "    \n",
    "    for (X, y), color in zip(data, colors):\n",
    "        if X.shape[1] != 1:\n",
    "            raise ValueError(\"X must be one-dimensional to plot.\")\n",
    "        \n",
    "        ax.scatter(X, y, color = color, marker = \".\")    \n",
    "        ax.set_xlabel('x')\n",
    "        ax.set_ylabel('y')\n",
    "        \n",
    "def mean_absolute_percentage_error(y_true, y_pred):\n",
    "    y_true, y_pred = check_array(y_true, ensure_2d=False), check_array(y_pred, ensure_2d=False)\n",
    "    return np.mean(np.abs((y_true - y_pred) / y_true))"
   ]
  },
  {
   "cell_type": "code",
   "execution_count": 4,
   "metadata": {},
   "outputs": [
    {
     "data": {
      "image/png": "[encoded data removed]",
      "text/plain": [
       "<Figure size 360x288 with 1 Axes>"
      ]
     },
     "metadata": {},
     "output_type": "display_data"
    }
   ],
   "source": [
    "n = 100\n",
    "d = 1\n",
    "\n",
    "rep_dim = 29\n",
    "W = np.random.randn(rep_dim, d)\n",
    "b = np.random.randn(rep_dim)\n",
    "v1 = np.random.randn(rep_dim)\n",
    "v2 = np.random.randn(rep_dim)\n",
    "v3 = np.random.randn(rep_dim)\n",
    "vs = [v1, v2, v3]\n",
    "\n",
    "data = []\n",
    "for v in vs:\n",
    "    data.append(generate_data(n, d, lambda X: np.square(np.dot(X, W.T) + b), lambda X: np.dot(X, v), sigma = 5))\n",
    "\n",
    "plot_data(data)"
   ]
  },
  {
   "cell_type": "code",
   "execution_count": 5,
   "metadata": {},
   "outputs": [],
   "source": [
    "# Generate a PL that has a neural transformer, a neural voter (with one output unit), and a KNN decider.\n",
    "def build_predictive_ensembler(d, verbose_transform = False, verbose_vote = False):    \n",
    "    \n",
    "    default_transformer_class = NeuralRegressionTransformer\n",
    "        \n",
    "    # Representation\n",
    "    network = keras.Sequential()\n",
    "    network.add(Input(shape=(d,), name = 'input'))\n",
    "    network.add(Dense(16, activation='relu', name = 'fc0'))\n",
    "    network.add(Dense(4, activation='relu', name = 'fc1')) \n",
    "    \n",
    "    # Output layer.\n",
    "    network.add(Dense(1, activation = 'linear', name = 'output'))\n",
    "\n",
    "    default_transformer_kwargs = {\"network\" : network, \n",
    "                                  \"euclidean_layer_idx\" : -2,\n",
    "                                  \"loss\" : \"mae\",\n",
    "                                  \"optimizer\" : keras.optimizers.Adam(1e-2),\n",
    "                                  \"fit_kwargs\" : {\"epochs\" : 100, \"verbose\" : verbose_transform}\n",
    "                                 }\n",
    "\n",
    "    default_voter_class = NeuralRegressionVoter\n",
    "    default_voter_kwargs = {\"loss\" : \"mae\",\n",
    "                            \"verbose\" : verbose_vote,\n",
    "                            \"epochs\" : 100,\n",
    "                            \"lr\" : 1e-2\n",
    "                           }\n",
    "    default_decider_class = KNNRegressionDecider\n",
    "    \n",
    "    return ProgressiveLearner(default_transformer_class = default_transformer_class, \n",
    "                              default_transformer_kwargs = default_transformer_kwargs,\n",
    "                              default_voter_class = default_voter_class,\n",
    "                              default_voter_kwargs = default_voter_kwargs, \n",
    "                              default_decider_class = default_decider_class,\n",
    "                              default_decider_kwargs = {})"
   ]
  },
  {
   "cell_type": "code",
   "execution_count": 6,
   "metadata": {},
   "outputs": [],
   "source": [
    "# Generate a PL that has a neural transformer, a neural voter (with one output unit), and a KNN decider.\n",
    "def build_representation_ensembler(d, num_tasks = 3, verbose_transform = False, verbose_decide = False):\n",
    "    \n",
    "    default_transformer_class = NeuralRegressionTransformer\n",
    "    \n",
    "    backbone_layer_size = 4 # second to last layer in each transformer and the full decider.\n",
    "        \n",
    "    # Representation\n",
    "    transform_network = keras.Sequential()\n",
    "    transform_network.add(Input(shape=(d,), name = 'input'))\n",
    "    transform_network.add(Dense(16, activation='relu', name = 'fc0'))\n",
    "    transform_network.add(Dense(backbone_layer_size, activation='relu', name = 'fc1')) \n",
    "    \n",
    "    # Output layer.\n",
    "    transform_network.add(Dense(1, activation = 'linear', name = 'output2'))\n",
    "\n",
    "    default_transformer_kwargs = {\"network\" : transform_network, \n",
    "                                  \"euclidean_layer_idx\" : -2,\n",
    "                                  \"loss\" : \"mae\",\n",
    "                                  \"optimizer\" : keras.optimizers.Adam(3e-2),\n",
    "                                  \"fit_kwargs\" : {\"epochs\" : 100, \"verbose\" : verbose_transform}\n",
    "                                 }\n",
    "\n",
    "    # Unused in this model.\n",
    "    default_voter_class = NeuralRegressionVoter\n",
    "    default_voter_kwargs = {}\n",
    "    \n",
    "    default_decider_class = NeuralRegressionDecider\n",
    "    \n",
    "    def build_decider_network(input_shape):\n",
    "    \n",
    "        decide_network = keras.Sequential()\n",
    "        decide_network.add(Input(shape=(input_shape), name = 'concatenated_input3'))\n",
    "        decide_network.add(Dropout(0.3, name = 'd4'))\n",
    "        decide_network.add(Dense(backbone_layer_size, activation='relu', name = 'fc5'))\n",
    "\n",
    "        # Output layer.\n",
    "        decide_network.add(Dense(1, activation = 'linear', name = 'output6'))\n",
    "        \n",
    "        return decide_network\n",
    "    \n",
    "    default_decider_kwargs = {\"build_network\" : build_decider_network,\n",
    "                              \"backbone_layer_size\" : backbone_layer_size,\n",
    "                              \"loss\" : \"mae\",\n",
    "                              \"optimizer\" : keras.optimizers.Adam(3e-2),\n",
    "                              \"fit_kwargs\" : {\"epochs\" : 100, \"verbose\" : verbose_decide}\n",
    "                             }\n",
    "    \n",
    "    return ProgressiveLearner(default_transformer_class = default_transformer_class, \n",
    "                              default_transformer_kwargs = default_transformer_kwargs,\n",
    "                              default_voter_class = default_voter_class,\n",
    "                              default_voter_kwargs = default_voter_kwargs, \n",
    "                              default_decider_class = default_decider_class,\n",
    "                              default_decider_kwargs = default_decider_kwargs)"
   ]
  },
  {
   "cell_type": "markdown",
   "metadata": {},
   "source": [
    "# Check 1\n",
    "In this task, we transform by applying a random linear transform followed by an element-wise square. We vote by a random linear combination and add noise. Here, we just wish to show that the Progressive Learner is a single-task learner, in that it can learn one task."
   ]
  },
  {
   "cell_type": "code",
   "execution_count": 7,
   "metadata": {},
   "outputs": [],
   "source": [
    "n_train = 10000\n",
    "n_test = 1000\n",
    "d = 10\n",
    "\n",
    "np.random.seed(1)\n",
    "rep_dim = 4 # The matrix will be invertible with high probabability.\n",
    "W = (1 / d) * np.random.randn(rep_dim, d)\n",
    "b = np.random.randn(rep_dim)\n",
    "v = np.random.randn(rep_dim)\n",
    "\n",
    "# We will do no noise to see that it can fit a deterministic function.\n",
    "X, y = generate_data(n_train + n_test, d, lambda X: np.square(np.dot(X, W.T) + b), lambda X: np.dot(X, v), sigma = 0)\n",
    "X_train, X_test, y_train, y_test = train_test_split(X, y, test_size=n_test, random_state=42)"
   ]
  },
  {
   "cell_type": "code",
   "execution_count": 8,
   "metadata": {},
   "outputs": [],
   "source": [
    "# Initialize prog. learner and populate with one task.\n",
    "pl = build_representation_ensembler(d, num_tasks = 1, verbose_decide = False)\n",
    "pl.add_task(X = X_train, y = y_train, task_id = 0, transformer_voter_decider_split = [0.6, 0.0, 0.4])"
   ]
  },
  {
   "cell_type": "code",
   "execution_count": 9,
   "metadata": {},
   "outputs": [
    {
     "name": "stdout",
     "output_type": "stream",
     "text": [
      "Single, deterministic task (n = 10000 and d = 10):\n",
      "MAPE = 0.33799901977081176\n",
      "MAE = 1.2119619003835171\n"
     ]
    }
   ],
   "source": [
    "# Predict on this task.\n",
    "y_pred = pl.predict(X_test, task_id = 0)\n",
    "mape = mean_absolute_percentage_error(y_test, y_pred)\n",
    "mae = mean_absolute_error(y_test, y_pred)\n",
    "\n",
    "print(\"Single, deterministic task (n = %d and d = %d):\" % (n_train, d))\n",
    "print(\"MAPE =\", mape)\n",
    "print(\"MAE =\", mae)"
   ]
  },
  {
   "cell_type": "markdown",
   "metadata": {},
   "source": [
    "# Check 2\n",
    "In this task, we transform by applying a random linear transform followed by an element-wise square. We vote by a random linear combination and add noise for 3 separate tasks. We train an honest learner on just one task with less data, and a progressive learner with data from all 3 tasks. We wish to show that when all three tasks have the same transformer, the progressive learner wins."
   ]
  },
  {
   "cell_type": "code",
   "execution_count": null,
   "metadata": {},
   "outputs": [],
   "source": [
    "n_train_small = 100\n",
    "n_train_large = 3000\n",
    "n_test = 1000\n",
    "sigma = 1\n",
    "d = 10\n",
    "\n",
    "np.random.seed(2)\n",
    "\n",
    "# We'll use the same (true) transformer for all three tasks, but different voters.\n",
    "rep_dim = 10 # The matrix will be invertible with high probabability.\n",
    "W = (1 / d) * np.random.randn(rep_dim, d)\n",
    "b = np.random.randn(rep_dim)\n",
    "def transform(X):\n",
    "    return np.square(np.dot(X, W.T) + b)\n",
    "def vote_with(v):\n",
    "    return lambda X: np.dot(X, v)\n",
    "data = []\n",
    "\n",
    "# Task 0.\n",
    "v0 = np.random.randn(rep_dim)\n",
    "X, y = generate_data(n_train_small + n_test, d, transform, vote_with(v0), sigma = sigma)\n",
    "X_train, X_test, y_train, y_test = train_test_split(X, y, test_size=n_test)\n",
    "data.append((X_train, y_train))\n",
    "\n",
    "# Task 1.\n",
    "v1 = np.random.randn(rep_dim)\n",
    "X, y = generate_data(n_train_large, d, transform, vote_with(v1), sigma = sigma)\n",
    "data.append((X, y))\n",
    "\n",
    "# Task 2.\n",
    "v2 = np.random.randn(rep_dim)\n",
    "X, y = generate_data(n_train_large, d, transform, vote_with(v2), sigma = sigma)\n",
    "data.append((X, y))"
   ]
  },
  {
   "cell_type": "code",
   "execution_count": null,
   "metadata": {},
   "outputs": [],
   "source": [
    "# Single-task Honest Learner\n",
    "pl_single = build_predictive_ensembler(d, verbose_transform = False, verbose_vote = False)\n",
    "X, y = data[0]\n",
    "pl_single.add_task(X = X, y = y, task_id = 0, transformer_voter_decider_split = [0.6, 0.2, 0.2])"
   ]
  },
  {
   "cell_type": "code",
   "execution_count": null,
   "metadata": {},
   "outputs": [],
   "source": [
    "# Multitask Learner (predictions)\n",
    "pl_pred = build_predictive_ensembler(d, verbose_transform = False, verbose_vote = False)\n",
    "for j in range(3):\n",
    "    print(\"Fitting task\", j)\n",
    "    X, y = data[j]\n",
    "    pl_pred.add_task(X = X, y = y, task_id = j, transformer_voter_decider_split = [0.6, 0.2, 0.2])"
   ]
  },
  {
   "cell_type": "code",
   "execution_count": null,
   "metadata": {},
   "outputs": [],
   "source": [
    "# Multitask Learner (representations)\n",
    "pl_rep = build_representation_ensembler(d, num_tasks = 3, verbose_transform = False, verbose_decide = True)\n",
    "for j in range(3):\n",
    "    print(\"Fitting task\", j)\n",
    "    X, y = data[j]\n",
    "    pl_rep.add_task(X = X, y = y, task_id = j, transformer_voter_decider_split = [0.6, 0.2, 0.2])"
   ]
  },
  {
   "cell_type": "code",
   "execution_count": null,
   "metadata": {},
   "outputs": [],
   "source": [
    "# Single task\n",
    "y_pred_single = pl_single.predict(X_test, task_id = 0)\n",
    "mae_single = mean_absolute_error(y_test, y_pred_single)\n",
    "mape_single = mean_absolute_percentage_error(y_test, y_pred_single)\n",
    "\n",
    "# Prediction Ensembler\n",
    "y_pred = pl_pred.predict(X_test, task_id = 0)\n",
    "mae_pred = mean_absolute_error(y_test, y_pred)\n",
    "mape_pred = mean_absolute_percentage_error(y_test, y_pred)\n",
    "\n",
    "# Representation Ensembler\n",
    "y_pred = pl_rep.predict(X_test, task_id = 0)\n",
    "mae_rep = mean_absolute_error(y_test, y_pred)\n",
    "mape_rep = mean_absolute_percentage_error(y_test, y_pred)\n",
    "\n",
    "print(\"Three tasks with a shared transformer:\")\n",
    "print(\"Training size for Task 0:\", n_train_small)\n",
    "print(\"Training size for Tasks 1 and 2:\", n_train_large)\n",
    "print(\"Dimensionality:\", d)\n",
    "print(\"Noise (var of y | x):\", sigma)\n",
    "print(\"MAE/MAPE on Task 0 of single-task honest learner:\", mae_single, mape_single)\n",
    "print(\"MAE/MAPE on Task 0 of (predictive) progressive learner:\", mae_pred, mape_pred)\n",
    "print(\"MAE/MAPE (predictive) Transfer Efficiency:\", mae_single / mae_pred, mape_single / mape_pred)\n",
    "print(\"MAE/MAPE on Task 0 of (representation) progressive learner:\", mae_rep, mape_rep)\n",
    "print(\"MAE/MAPE (representation) Transfer Efficiency:\", mae_single / mae_rep, mape_single / mape_rep)"
   ]
  },
  {
   "cell_type": "markdown",
   "metadata": {},
   "source": [
    "# Check 3\n",
    "In this task, we try to show a case in which concatenating representations might work well."
   ]
  },
  {
   "cell_type": "code",
   "execution_count": null,
   "metadata": {},
   "outputs": [],
   "source": [
    "n_train_small = 50\n",
    "n_train_large = 2000\n",
    "n_test = 1000\n",
    "sigma = 1\n",
    "d = 10\n",
    "\n",
    "np.random.seed(3)\n",
    "\n",
    "# We'll use 2 transformers for task 1 and 2, and combine them for task 0.\n",
    "rep_dim = 10 # The matrix will be invertible with high probabability.\n",
    "W1 = (1 / d) * np.random.randn(rep_dim, d)\n",
    "b1 = np.random.randn(rep_dim)\n",
    "W2 = (1 / d) * np.random.randn(rep_dim, d)\n",
    "b2 = np.random.randn(rep_dim)\n",
    "v = np.random.randn(rep_dim)\n",
    "def transform1(X):\n",
    "    return np.square(np.dot(X, W1.T) + b2)\n",
    "def transform2(X):\n",
    "    return np.tanh(np.dot(X, W2.T) + b2)\n",
    "def transform0(X):\n",
    "    return 0.5*transform1(X) + 0.5*transform2(X)\n",
    "def vote(X):\n",
    "    return np.dot(X, v)\n",
    "data = []\n",
    "\n",
    "# Task 0.\n",
    "X, y = generate_data(n_train_small + n_test, d, transform0, vote, sigma = sigma)\n",
    "X_train, X_test, y_train, y_test = train_test_split(X, y, test_size=n_test)\n",
    "data.append((X_train, y_train))\n",
    "\n",
    "# Task 1.\n",
    "X, y = generate_data(n_train_large, d, transform1, vote, sigma = sigma)\n",
    "data.append((X, y))\n",
    "\n",
    "# Task 2.\n",
    "X, y = generate_data(n_train_large, d, transform2, vote, sigma = sigma)\n",
    "data.append((X, y))"
   ]
  },
  {
   "cell_type": "code",
   "execution_count": null,
   "metadata": {},
   "outputs": [],
   "source": [
    "# Single-task Honest Learner\n",
    "pl_single = build_predictive_ensembler(d, verbose_transform = False, verbose_vote = False)\n",
    "X, y = data[0]\n",
    "pl_single.add_task(X = X, y = y, task_id = 0, transformer_voter_decider_split = [0.6, 0.2, 0.2])"
   ]
  },
  {
   "cell_type": "code",
   "execution_count": null,
   "metadata": {},
   "outputs": [],
   "source": [
    "# Multitask Learner (predictions)\n",
    "pl_pred = build_predictive_ensembler(d, verbose_transform = False, verbose_vote = False)\n",
    "for j in range(3):\n",
    "    print(\"Fitting task\", j)\n",
    "    X, y = data[j]\n",
    "    pl_pred.add_task(X = X, y = y, task_id = j, transformer_voter_decider_split = [0.6, 0.2, 0.2])"
   ]
  },
  {
   "cell_type": "code",
   "execution_count": null,
   "metadata": {},
   "outputs": [],
   "source": [
    "# Multitask Learner (representations)\n",
    "pl_rep = build_representation_ensembler(d, num_tasks = 3, verbose_transform = False, verbose_decide = True)\n",
    "for j in range(3):\n",
    "    print(\"Fitting task\", j)\n",
    "    X, y = data[j]\n",
    "    pl_rep.add_task(X = X, y = y, task_id = j, transformer_voter_decider_split = [0.6, 0.2, 0.2])"
   ]
  },
  {
   "cell_type": "code",
   "execution_count": null,
   "metadata": {},
   "outputs": [],
   "source": [
    "# Single task\n",
    "y_pred_single = pl_single.predict(X_test, task_id = 0)\n",
    "mae_single = mean_absolute_error(y_test, y_pred_single)\n",
    "mape_single = mean_absolute_percentage_error(y_test, y_pred_single)\n",
    "\n",
    "# Prediction Ensembler\n",
    "y_pred = pl_pred.predict(X_test, task_id = 0)\n",
    "mae_pred = mean_absolute_error(y_test, y_pred)\n",
    "mape_pred = mean_absolute_percentage_error(y_test, y_pred)\n",
    "\n",
    "# Representation Ensembler\n",
    "y_pred = pl_rep.predict(X_test, task_id = 0)\n",
    "mae_rep = mean_absolute_error(y_test, y_pred)\n",
    "mape_rep = mean_absolute_percentage_error(y_test, y_pred)\n",
    "\n",
    "print(\"Three tasks with a shared transformer:\")\n",
    "print(\"Training size for Task 0:\", n_train_small)\n",
    "print(\"Training size for Tasks 1 and 2:\", n_train_large)\n",
    "print(\"Dimensionality:\", d)\n",
    "print(\"Noise (var of y | x):\", sigma)\n",
    "print(\"MAE/MAPE on Task 0 of single-task honest learner:\", mae_single, mape_single)\n",
    "print(\"MAE/MAPE on Task 0 of (predictive) progressive learner:\", mae_pred, mape_pred)\n",
    "print(\"MAE/MAPE (predictive) Transfer Efficiency:\", mae_single / mae_pred, mape_single / mape_pred)\n",
    "print(\"MAE/MAPE on Task 0 of (representation) progressive learner:\", mae_rep, mape_rep)\n",
    "print(\"MAE/MAPE (representation) Transfer Efficiency:\", mae_single / mae_rep, mape_single / mape_rep)"
   ]
  },
  {
   "cell_type": "code",
   "execution_count": null,
   "metadata": {},
   "outputs": [],
   "source": []
  }
 ],
 "metadata": {
  "kernelspec": {
   "display_name": "Python 3",
   "language": "python",
   "name": "python3"
  },
  "language_info": {
   "codemirror_mode": {
    "name": "ipython",
    "version": 3
   },
   "file_extension": ".py",
   "mimetype": "text/x-python",
   "name": "python",
   "nbconvert_exporter": "python",
   "pygments_lexer": "ipython3",
   "version": "3.8.2"
  }
 },
 "nbformat": 4,
 "nbformat_minor": 4
}
