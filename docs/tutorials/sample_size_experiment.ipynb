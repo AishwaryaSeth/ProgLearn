{
 "cells": [
  {
   "cell_type": "markdown",
   "metadata": {},
   "source": [
    "# Sample Size Experiment using Random Forest and Deep Networks"
   ]
  },
  {
   "cell_type": "markdown",
   "metadata": {},
   "source": [
    "### Random Forest (RF) vs. Deep Networks (DN)\n",
    "\n",
    "Random forest is inherently a non-parametric model, meaning that the algorithm requires no assumptions about the data distribution. With infinitely many trees and n -> $\\infty$, RF will follow non-parametric behavior and will guarantee convergence.\n",
    "\n",
    "Deep Networks with a fixed architecture are entirely parametric. As presented by [Vogelstein, et al. (2020)](https://www.biorxiv.org/content/10.1101/2020.04.29.068460v1), there is a clear bias variance tradeoff between DNs as the number of parameters change. This is evident by testing each model over a range of sample sizes. DNs (CNNs) perform particularly well on image datasets. \n",
    "\n",
    "### Experiment Discription\n",
    "\n",
    "In [Vogelstein, et al. (2020)](https://www.biorxiv.org/content/10.1101/2020.04.29.068460v1), when trained on the CIFAR-10 dataset, both a simple DN and an overparametrized DN produced a lower classification error than RF for sample sizes greater than 2500. RF outperformed both DNs for sample sizes smaller than 2500. While this experiment only tests up to 10000 sample sizes, RF is theoretically guaranteed to produce a lower classification error at infinite samples due to its non-parametric nature.\n",
    "\n",
    "The goal of this tutorial is to identify a joint distribution (X,Y) that demonstrates this relationship. RF should profuce a smaller generalization error as small sample sizes, a specific parametric DN should produce a smaller generalization error at medium sample sizes, and RF should once again produce a smaller generalization error at large sample sizes."
   ]
  },
  {
   "cell_type": "code",
   "execution_count": 2,
   "metadata": {},
   "outputs": [
    {
     "data": {
      "application/javascript": [
       "\n",
       "            setTimeout(function() {\n",
       "                var nbb_cell_id = 2;\n",
       "                var nbb_unformatted_code = \"%load_ext nb_black\";\n",
       "                var nbb_formatted_code = \"%load_ext nb_black\";\n",
       "                var nbb_cells = Jupyter.notebook.get_cells();\n",
       "                for (var i = 0; i < nbb_cells.length; ++i) {\n",
       "                    if (nbb_cells[i].input_prompt_number == nbb_cell_id) {\n",
       "                        if (nbb_cells[i].get_text() == nbb_unformatted_code) {\n",
       "                             nbb_cells[i].set_text(nbb_formatted_code);\n",
       "                        }\n",
       "                        break;\n",
       "                    }\n",
       "                }\n",
       "            }, 500);\n",
       "            "
      ],
      "text/plain": [
       "<IPython.core.display.Javascript object>"
      ]
     },
     "metadata": {},
     "output_type": "display_data"
    }
   ],
   "source": [
    "%load_ext nb_black"
   ]
  },
  {
   "cell_type": "markdown",
   "metadata": {},
   "source": [
    "### Load dependencies\n",
    "\n",
    "Import required dependencies and model functions from sample_size_experiment.py"
   ]
  },
  {
   "cell_type": "code",
   "execution_count": 3,
   "metadata": {},
   "outputs": [
    {
     "data": {
      "application/javascript": [
       "\n",
       "            setTimeout(function() {\n",
       "                var nbb_cell_id = 3;\n",
       "                var nbb_unformatted_code = \"from sample_size_experiment import *\";\n",
       "                var nbb_formatted_code = \"from sample_size_experiment import *\";\n",
       "                var nbb_cells = Jupyter.notebook.get_cells();\n",
       "                for (var i = 0; i < nbb_cells.length; ++i) {\n",
       "                    if (nbb_cells[i].input_prompt_number == nbb_cell_id) {\n",
       "                        if (nbb_cells[i].get_text() == nbb_unformatted_code) {\n",
       "                             nbb_cells[i].set_text(nbb_formatted_code);\n",
       "                        }\n",
       "                        break;\n",
       "                    }\n",
       "                }\n",
       "            }, 500);\n",
       "            "
      ],
      "text/plain": [
       "<IPython.core.display.Javascript object>"
      ]
     },
     "metadata": {},
     "output_type": "display_data"
    }
   ],
   "source": [
    "from sample_size_experiment import *"
   ]
  },
  {
   "cell_type": "code",
   "execution_count": 4,
   "metadata": {},
   "outputs": [
    {
     "data": {
      "application/javascript": [
       "\n",
       "            setTimeout(function() {\n",
       "                var nbb_cell_id = 4;\n",
       "                var nbb_unformatted_code = \"%matplotlib inline\\nimport numpy as np\\nimport pandas as pd\\nimport matplotlib.pyplot as plt\\nimport random\\nfrom IPython.display import display\\nfrom scipy import stats\\n\\nfrom sklearn.metrics import accuracy_score\\nfrom tensorflow.keras.utils import to_categorical\";\n",
       "                var nbb_formatted_code = \"%matplotlib inline\\nimport numpy as np\\nimport pandas as pd\\nimport matplotlib.pyplot as plt\\nimport random\\nfrom IPython.display import display\\nfrom scipy import stats\\n\\nfrom sklearn.metrics import accuracy_score\\nfrom tensorflow.keras.utils import to_categorical\";\n",
       "                var nbb_cells = Jupyter.notebook.get_cells();\n",
       "                for (var i = 0; i < nbb_cells.length; ++i) {\n",
       "                    if (nbb_cells[i].input_prompt_number == nbb_cell_id) {\n",
       "                        if (nbb_cells[i].get_text() == nbb_unformatted_code) {\n",
       "                             nbb_cells[i].set_text(nbb_formatted_code);\n",
       "                        }\n",
       "                        break;\n",
       "                    }\n",
       "                }\n",
       "            }, 500);\n",
       "            "
      ],
      "text/plain": [
       "<IPython.core.display.Javascript object>"
      ]
     },
     "metadata": {},
     "output_type": "display_data"
    }
   ],
   "source": [
    "%matplotlib inline\n",
    "import numpy as np\n",
    "import pandas as pd\n",
    "import matplotlib.pyplot as plt\n",
    "import random\n",
    "from IPython.display import display\n",
    "from scipy import stats\n",
    "\n",
    "from sklearn.metrics import accuracy_score\n",
    "from tensorflow.keras.utils import to_categorical"
   ]
  },
  {
   "cell_type": "code",
   "execution_count": 5,
   "metadata": {},
   "outputs": [
    {
     "data": {
      "application/javascript": [
       "\n",
       "            setTimeout(function() {\n",
       "                var nbb_cell_id = 5;\n",
       "                var nbb_unformatted_code = \"def sparse_parity(num_samples, p, p_star):\\n    X = np.random.uniform(-1, 1, [num_samples, p])\\n    y = np.sum(np.where(X[:, :p_star] >= 0, 1, 0), axis=1) % 2\\n    return X, y\";\n",
       "                var nbb_formatted_code = \"def sparse_parity(num_samples, p, p_star):\\n    X = np.random.uniform(-1, 1, [num_samples, p])\\n    y = np.sum(np.where(X[:, :p_star] >= 0, 1, 0), axis=1) % 2\\n    return X, y\";\n",
       "                var nbb_cells = Jupyter.notebook.get_cells();\n",
       "                for (var i = 0; i < nbb_cells.length; ++i) {\n",
       "                    if (nbb_cells[i].input_prompt_number == nbb_cell_id) {\n",
       "                        if (nbb_cells[i].get_text() == nbb_unformatted_code) {\n",
       "                             nbb_cells[i].set_text(nbb_formatted_code);\n",
       "                        }\n",
       "                        break;\n",
       "                    }\n",
       "                }\n",
       "            }, 500);\n",
       "            "
      ],
      "text/plain": [
       "<IPython.core.display.Javascript object>"
      ]
     },
     "metadata": {},
     "output_type": "display_data"
    }
   ],
   "source": [
    "def sparse_parity(num_samples, p, p_star):\n",
    "    X = np.random.uniform(-1, 1, [num_samples, p])\n",
    "    y = np.sum(np.where(X[:, :p_star] >= 0, 1, 0), axis=1) % 2\n",
    "    return X, y"
   ]
  },
  {
   "cell_type": "code",
   "execution_count": 27,
   "metadata": {},
   "outputs": [
    {
     "data": {
      "application/javascript": [
       "\n",
       "            setTimeout(function() {\n",
       "                var nbb_cell_id = 27;\n",
       "                var nbb_unformatted_code = \"from sklearn.model_selection import train_test_split\\nimport time\\n\\n\\ndef test_suite_timed(\\n    p,\\n    p_star,\\n    iterations,\\n    output_nodes,\\n    n_jobs,\\n    sample_sizes=[500, 1000, 2000, 3000, 5000, 7000, 10000, 15000, 20000, 30000],\\n    num_trees=100,\\n    max_depth=None,\\n    rf_verbose=1,\\n    epochs=10,\\n    batch_size=50,\\n    learning_rate=0.001,\\n    validation_split=0.3,\\n    dnn_verbose=1,\\n):\\n\\n    rf_evolution = np.zeros((len(sample_sizes), iterations))\\n    #     dnn_evolution = np.zeros((len(sample_sizes), iterations))\\n\\n    start_time = time.time()\\n    time_plot = np.zeros([iterations, 2])\\n\\n    for iteration in range(iterations):\\n        print(\\\"iteration: \\\", iteration)\\n\\n        for sample_size_index, max_sample_size in enumerate(sample_sizes):\\n            print(\\\"Max sample size: \\\", max_sample_size)\\n\\n            X, y = sparse_parity(max_sample_size, p, p_star)\\n            print(X.shape)\\n            print(y.shape)\\n            X_train, X_test, y_train, y_test = train_test_split(\\n                X, y, test_size=0.3, random_state=101\\n            )\\n\\n            rf_model = random_forest_classifier_model(\\n                X_train=X_train,\\n                y_train=y_train,\\n                num_trees=num_trees,\\n                max_depth=max_depth,\\n                n_jobs=n_jobs,\\n                verbose=rf_verbose,\\n            )\\n\\n            rf_predictions = rf_model.predict(X_test)\\n            rf_error = 1 - accuracy_score(y_test, rf_predictions)\\n            rf_evolution[sample_size_index][iteration] = rf_error\\n            print(\\\"\\\\n\\\\nRF ERROR: \\\\n\\\\n\\\", rf_error)\\n\\n        #             rf_evolution[sample_size_index][iteration] = rf_error\\n\\n        #             if output_nodes == 1:\\n        #                 dnn_model = binary_deep_neural_network(\\n        #                     X_train=X_train,\\n        #                     y_train=y_train,\\n        #                     epochs=epochs,\\n        #                     batch_size=batch_size,\\n        #                     learning_rate=learning_rate,\\n        #                     validation_split=validation_split,\\n        #                     verbose=dnn_verbose,\\n        #                 )\\n        #             else:\\n        #                 y_train = to_categorical(y_train, num_classes=output_nodes)\\n        #                 y_test = to_categorical(y_test, num_classes=output_nodes)\\n\\n        #                 dnn_model = multiclass_deep_neural_network(\\n        #                     X_train=X_train,\\n        #                     y_train=y_train,\\n        #                     epochs=epochs,\\n        #                     batch_size=batch_size,\\n        #                     learning_rate=learning_rate,\\n        #                     validation_split=validation_split,\\n        #                     output_nodes=output_nodes,\\n        #                     verbose=dnn_verbose,\\n        #                 )\\n\\n        #             score = dnn_model.evaluate(\\n        #                 X_test,\\n        #                 y_test,\\n        #                 batch_size=None,\\n        #                 verbose=0,\\n        #                 sample_weight=None,\\n        #                 steps=None,\\n        #                 callbacks=None,\\n        #                 max_queue_size=10,\\n        #                 workers=1,\\n        #                 use_multiprocessing=False,\\n        #                 return_dict=False,\\n        #             )\\n\\n        #             dnn_error = 1 - score[1]\\n        #             dnn_evolution[sample_size_index][iteration] = dnn_error\\n\\n        current_time = time.time()\\n        time_plot[iteration, :] = [iteration, current_time - start_time]\\n\\n    return rf_evolution, time_plot\";\n",
       "                var nbb_formatted_code = \"from sklearn.model_selection import train_test_split\\nimport time\\n\\n\\ndef test_suite_timed(\\n    p,\\n    p_star,\\n    iterations,\\n    output_nodes,\\n    n_jobs,\\n    sample_sizes=[500, 1000, 2000, 3000, 5000, 7000, 10000, 15000, 20000, 30000],\\n    num_trees=100,\\n    max_depth=None,\\n    rf_verbose=1,\\n    epochs=10,\\n    batch_size=50,\\n    learning_rate=0.001,\\n    validation_split=0.3,\\n    dnn_verbose=1,\\n):\\n\\n    rf_evolution = np.zeros((len(sample_sizes), iterations))\\n    #     dnn_evolution = np.zeros((len(sample_sizes), iterations))\\n\\n    start_time = time.time()\\n    time_plot = np.zeros([iterations, 2])\\n\\n    for iteration in range(iterations):\\n        print(\\\"iteration: \\\", iteration)\\n\\n        for sample_size_index, max_sample_size in enumerate(sample_sizes):\\n            print(\\\"Max sample size: \\\", max_sample_size)\\n\\n            X, y = sparse_parity(max_sample_size, p, p_star)\\n            print(X.shape)\\n            print(y.shape)\\n            X_train, X_test, y_train, y_test = train_test_split(\\n                X, y, test_size=0.3, random_state=101\\n            )\\n\\n            rf_model = random_forest_classifier_model(\\n                X_train=X_train,\\n                y_train=y_train,\\n                num_trees=num_trees,\\n                max_depth=max_depth,\\n                n_jobs=n_jobs,\\n                verbose=rf_verbose,\\n            )\\n\\n            rf_predictions = rf_model.predict(X_test)\\n            rf_error = 1 - accuracy_score(y_test, rf_predictions)\\n            rf_evolution[sample_size_index][iteration] = rf_error\\n            print(\\\"\\\\n\\\\nRF ERROR: \\\\n\\\\n\\\", rf_error)\\n\\n        #             rf_evolution[sample_size_index][iteration] = rf_error\\n\\n        #             if output_nodes == 1:\\n        #                 dnn_model = binary_deep_neural_network(\\n        #                     X_train=X_train,\\n        #                     y_train=y_train,\\n        #                     epochs=epochs,\\n        #                     batch_size=batch_size,\\n        #                     learning_rate=learning_rate,\\n        #                     validation_split=validation_split,\\n        #                     verbose=dnn_verbose,\\n        #                 )\\n        #             else:\\n        #                 y_train = to_categorical(y_train, num_classes=output_nodes)\\n        #                 y_test = to_categorical(y_test, num_classes=output_nodes)\\n\\n        #                 dnn_model = multiclass_deep_neural_network(\\n        #                     X_train=X_train,\\n        #                     y_train=y_train,\\n        #                     epochs=epochs,\\n        #                     batch_size=batch_size,\\n        #                     learning_rate=learning_rate,\\n        #                     validation_split=validation_split,\\n        #                     output_nodes=output_nodes,\\n        #                     verbose=dnn_verbose,\\n        #                 )\\n\\n        #             score = dnn_model.evaluate(\\n        #                 X_test,\\n        #                 y_test,\\n        #                 batch_size=None,\\n        #                 verbose=0,\\n        #                 sample_weight=None,\\n        #                 steps=None,\\n        #                 callbacks=None,\\n        #                 max_queue_size=10,\\n        #                 workers=1,\\n        #                 use_multiprocessing=False,\\n        #                 return_dict=False,\\n        #             )\\n\\n        #             dnn_error = 1 - score[1]\\n        #             dnn_evolution[sample_size_index][iteration] = dnn_error\\n\\n        current_time = time.time()\\n        time_plot[iteration, :] = [iteration, current_time - start_time]\\n\\n    return rf_evolution, time_plot\";\n",
       "                var nbb_cells = Jupyter.notebook.get_cells();\n",
       "                for (var i = 0; i < nbb_cells.length; ++i) {\n",
       "                    if (nbb_cells[i].input_prompt_number == nbb_cell_id) {\n",
       "                        if (nbb_cells[i].get_text() == nbb_unformatted_code) {\n",
       "                             nbb_cells[i].set_text(nbb_formatted_code);\n",
       "                        }\n",
       "                        break;\n",
       "                    }\n",
       "                }\n",
       "            }, 500);\n",
       "            "
      ],
      "text/plain": [
       "<IPython.core.display.Javascript object>"
      ]
     },
     "metadata": {},
     "output_type": "display_data"
    }
   ],
   "source": [
    "from sklearn.model_selection import train_test_split\n",
    "import time\n",
    "\n",
    "\n",
    "def test_suite_timed(\n",
    "    p,\n",
    "    p_star,\n",
    "    iterations,\n",
    "    output_nodes,\n",
    "    n_jobs,\n",
    "    sample_sizes=[500, 1000, 2000, 3000, 5000, 7000, 10000, 15000, 20000, 30000],\n",
    "    num_trees=100,\n",
    "    max_depth=None,\n",
    "    rf_verbose=1,\n",
    "    epochs=10,\n",
    "    batch_size=50,\n",
    "    learning_rate=0.001,\n",
    "    validation_split=0.3,\n",
    "    dnn_verbose=1,\n",
    "):\n",
    "\n",
    "    rf_evolution = np.zeros((len(sample_sizes), iterations))\n",
    "    #     dnn_evolution = np.zeros((len(sample_sizes), iterations))\n",
    "\n",
    "    start_time = time.time()\n",
    "    time_plot = np.zeros([iterations, 2])\n",
    "\n",
    "    for iteration in range(iterations):\n",
    "        print(\"iteration: \", iteration)\n",
    "\n",
    "        for sample_size_index, max_sample_size in enumerate(sample_sizes):\n",
    "            print(\"Max sample size: \", max_sample_size)\n",
    "\n",
    "            X, y = sparse_parity(max_sample_size, p, p_star)\n",
    "            print(X.shape)\n",
    "            print(y.shape)\n",
    "            X_train, X_test, y_train, y_test = train_test_split(\n",
    "                X, y, test_size=0.3, random_state=101\n",
    "            )\n",
    "\n",
    "            rf_model = random_forest_classifier_model(\n",
    "                X_train=X_train,\n",
    "                y_train=y_train,\n",
    "                num_trees=num_trees,\n",
    "                max_depth=max_depth,\n",
    "                n_jobs=n_jobs,\n",
    "                verbose=rf_verbose,\n",
    "            )\n",
    "\n",
    "            rf_predictions = rf_model.predict(X_test)\n",
    "            rf_error = 1 - accuracy_score(y_test, rf_predictions)\n",
    "            rf_evolution[sample_size_index][iteration] = rf_error\n",
    "            print(\"\\n\\nRF ERROR: \\n\\n\", rf_error)\n",
    "\n",
    "        #             rf_evolution[sample_size_index][iteration] = rf_error\n",
    "\n",
    "        #             if output_nodes == 1:\n",
    "        #                 dnn_model = binary_deep_neural_network(\n",
    "        #                     X_train=X_train,\n",
    "        #                     y_train=y_train,\n",
    "        #                     epochs=epochs,\n",
    "        #                     batch_size=batch_size,\n",
    "        #                     learning_rate=learning_rate,\n",
    "        #                     validation_split=validation_split,\n",
    "        #                     verbose=dnn_verbose,\n",
    "        #                 )\n",
    "        #             else:\n",
    "        #                 y_train = to_categorical(y_train, num_classes=output_nodes)\n",
    "        #                 y_test = to_categorical(y_test, num_classes=output_nodes)\n",
    "\n",
    "        #                 dnn_model = multiclass_deep_neural_network(\n",
    "        #                     X_train=X_train,\n",
    "        #                     y_train=y_train,\n",
    "        #                     epochs=epochs,\n",
    "        #                     batch_size=batch_size,\n",
    "        #                     learning_rate=learning_rate,\n",
    "        #                     validation_split=validation_split,\n",
    "        #                     output_nodes=output_nodes,\n",
    "        #                     verbose=dnn_verbose,\n",
    "        #                 )\n",
    "\n",
    "        #             score = dnn_model.evaluate(\n",
    "        #                 X_test,\n",
    "        #                 y_test,\n",
    "        #                 batch_size=None,\n",
    "        #                 verbose=0,\n",
    "        #                 sample_weight=None,\n",
    "        #                 steps=None,\n",
    "        #                 callbacks=None,\n",
    "        #                 max_queue_size=10,\n",
    "        #                 workers=1,\n",
    "        #                 use_multiprocessing=False,\n",
    "        #                 return_dict=False,\n",
    "        #             )\n",
    "\n",
    "        #             dnn_error = 1 - score[1]\n",
    "        #             dnn_evolution[sample_size_index][iteration] = dnn_error\n",
    "\n",
    "        current_time = time.time()\n",
    "        time_plot[iteration, :] = [iteration, current_time - start_time]\n",
    "\n",
    "    return rf_evolution, time_plot"
   ]
  },
  {
   "cell_type": "code",
   "execution_count": null,
   "metadata": {},
   "outputs": [],
   "source": [
    "sample_sizes = [\n",
    "    500,\n",
    "    1000,\n",
    "    2000,\n",
    "    3000,\n",
    "    5000,\n",
    "    7000,\n",
    "    10000,\n",
    "    12500,\n",
    "    15000,\n",
    "    20000,\n",
    "    25000,\n",
    "    30000,\n",
    "    35000,\n",
    "]\n",
    "# sample_sizes = [500, 1000, 2000]\n",
    "\n",
    "start = time.time()\n",
    "rf_e, rf_tp = test_suite_timed(\n",
    "    p=14,\n",
    "    p_star=3,\n",
    "    n_jobs=-1,\n",
    "    iterations=100,\n",
    "    output_nodes=1,\n",
    "    sample_sizes=sample_sizes,\n",
    "    num_trees=500,\n",
    "    rf_verbose=1,\n",
    "    batch_size=16,\n",
    ")\n",
    "end = time.time()\n",
    "print(\"\\n\\nTOTAL RUNTIME: \\n\\n\", end - start)"
   ]
  },
  {
   "cell_type": "code",
   "execution_count": 29,
   "metadata": {},
   "outputs": [
    {
     "name": "stdout",
     "output_type": "stream",
     "text": [
      "Stored 'rf_e' (ndarray)\n",
      "Stored 'rf_tp' (ndarray)\n"
     ]
    },
    {
     "data": {
      "application/javascript": [
       "\n",
       "            setTimeout(function() {\n",
       "                var nbb_cell_id = 29;\n",
       "                var nbb_unformatted_code = \"%store rf_e\\n%store rf_tp\";\n",
       "                var nbb_formatted_code = \"%store rf_e\\n%store rf_tp\";\n",
       "                var nbb_cells = Jupyter.notebook.get_cells();\n",
       "                for (var i = 0; i < nbb_cells.length; ++i) {\n",
       "                    if (nbb_cells[i].input_prompt_number == nbb_cell_id) {\n",
       "                        if (nbb_cells[i].get_text() == nbb_unformatted_code) {\n",
       "                             nbb_cells[i].set_text(nbb_formatted_code);\n",
       "                        }\n",
       "                        break;\n",
       "                    }\n",
       "                }\n",
       "            }, 500);\n",
       "            "
      ],
      "text/plain": [
       "<IPython.core.display.Javascript object>"
      ]
     },
     "metadata": {},
     "output_type": "display_data"
    }
   ],
   "source": [
    "%store rf_e\n",
    "%store rf_tp"
   ]
  },
  {
   "cell_type": "code",
   "execution_count": 30,
   "metadata": {},
   "outputs": [
    {
     "name": "stdout",
     "output_type": "stream",
     "text": [
      "[[0.58666667 0.46666667 0.45333333 ... 0.52       0.49333333 0.47333333]\n",
      " [0.43       0.46       0.44       ... 0.45666667 0.41333333 0.48333333]\n",
      " [0.36666667 0.37166667 0.40666667 ... 0.35333333 0.39       0.355     ]\n",
      " ...\n",
      " [0.03893333 0.0456     0.1104     ... 0.08946667 0.0624     0.08333333]\n",
      " [0.04688889 0.01855556 0.08344444 ... 0.02866667 0.03411111 0.04111111]\n",
      " [0.00780952 0.01857143 0.03390476 ... 0.04047619 0.04133333 0.02428571]]\n",
      "[[0.00000000e+00 2.93631063e+01]\n",
      " [1.00000000e+00 6.38970623e+01]\n",
      " [2.00000000e+00 1.01927253e+02]\n",
      " [3.00000000e+00 1.39960574e+02]\n",
      " [4.00000000e+00 1.79730628e+02]\n",
      " [5.00000000e+00 2.18741191e+02]\n",
      " [6.00000000e+00 2.57481003e+02]\n",
      " [7.00000000e+00 2.97234058e+02]\n",
      " [8.00000000e+00 3.36600060e+02]\n",
      " [9.00000000e+00 3.74598140e+02]\n",
      " [1.00000000e+01 4.13751214e+02]\n",
      " [1.10000000e+01 4.52243752e+02]\n",
      " [1.20000000e+01 4.92727770e+02]\n",
      " [1.30000000e+01 5.32116583e+02]\n",
      " [1.40000000e+01 5.71887068e+02]\n",
      " [1.50000000e+01 6.10747600e+02]\n",
      " [1.60000000e+01 6.50109115e+02]\n",
      " [1.70000000e+01 6.90630689e+02]\n",
      " [1.80000000e+01 7.30120517e+02]\n",
      " [1.90000000e+01 7.70282284e+02]\n",
      " [2.00000000e+01 8.11359947e+02]\n",
      " [2.10000000e+01 8.51860216e+02]\n",
      " [2.20000000e+01 8.92990429e+02]\n",
      " [2.30000000e+01 9.33546576e+02]\n",
      " [2.40000000e+01 9.74510802e+02]\n",
      " [2.50000000e+01 1.01497178e+03]\n",
      " [2.60000000e+01 1.05617961e+03]\n",
      " [2.70000000e+01 1.09657681e+03]\n",
      " [2.80000000e+01 1.13705431e+03]\n",
      " [2.90000000e+01 1.17716674e+03]\n",
      " [3.00000000e+01 1.21788227e+03]\n",
      " [3.10000000e+01 1.25858295e+03]\n",
      " [3.20000000e+01 1.29906218e+03]\n",
      " [3.30000000e+01 1.33984826e+03]\n",
      " [3.40000000e+01 1.37931213e+03]\n",
      " [3.50000000e+01 1.41970049e+03]\n",
      " [3.60000000e+01 1.45998477e+03]\n",
      " [3.70000000e+01 1.50042890e+03]\n",
      " [3.80000000e+01 1.53977560e+03]\n",
      " [3.90000000e+01 1.57924136e+03]\n",
      " [4.00000000e+01 1.61908412e+03]\n",
      " [4.10000000e+01 1.65901303e+03]\n",
      " [4.20000000e+01 1.70003615e+03]\n",
      " [4.30000000e+01 1.73970903e+03]\n",
      " [4.40000000e+01 1.77933035e+03]\n",
      " [4.50000000e+01 1.81908619e+03]\n",
      " [4.60000000e+01 1.85766550e+03]\n",
      " [4.70000000e+01 1.89746821e+03]\n",
      " [4.80000000e+01 1.93687136e+03]\n",
      " [4.90000000e+01 1.97649938e+03]\n",
      " [5.00000000e+01 2.01726803e+03]\n",
      " [5.10000000e+01 2.05614512e+03]\n",
      " [5.20000000e+01 2.09526425e+03]\n",
      " [5.30000000e+01 2.13426973e+03]\n",
      " [5.40000000e+01 2.17376835e+03]\n",
      " [5.50000000e+01 2.21372098e+03]\n",
      " [5.60000000e+01 2.25273766e+03]\n",
      " [5.70000000e+01 2.29127215e+03]\n",
      " [5.80000000e+01 2.33069123e+03]\n",
      " [5.90000000e+01 2.36967582e+03]\n",
      " [6.00000000e+01 2.40860319e+03]\n",
      " [6.10000000e+01 2.44797055e+03]\n",
      " [6.20000000e+01 2.48824667e+03]\n",
      " [6.30000000e+01 2.52764935e+03]\n",
      " [6.40000000e+01 2.56896876e+03]\n",
      " [6.50000000e+01 2.61119008e+03]\n",
      " [6.60000000e+01 2.65373342e+03]\n",
      " [6.70000000e+01 2.69600816e+03]\n",
      " [6.80000000e+01 2.73881946e+03]\n",
      " [6.90000000e+01 2.78274017e+03]\n",
      " [7.00000000e+01 2.82506867e+03]\n",
      " [7.10000000e+01 2.86911933e+03]\n",
      " [7.20000000e+01 2.91321571e+03]\n",
      " [7.30000000e+01 2.95611970e+03]\n",
      " [7.40000000e+01 2.99830232e+03]\n",
      " [7.50000000e+01 3.04206727e+03]\n",
      " [7.60000000e+01 3.08499806e+03]\n",
      " [7.70000000e+01 3.12768480e+03]\n",
      " [7.80000000e+01 3.16962284e+03]\n",
      " [7.90000000e+01 3.21219096e+03]\n",
      " [8.00000000e+01 3.25481308e+03]\n",
      " [8.10000000e+01 3.29749016e+03]\n",
      " [8.20000000e+01 3.34017764e+03]\n",
      " [8.30000000e+01 3.38270415e+03]\n",
      " [8.40000000e+01 3.42485107e+03]\n",
      " [8.50000000e+01 3.46670168e+03]\n",
      " [8.60000000e+01 3.50979142e+03]\n",
      " [8.70000000e+01 3.55286806e+03]\n",
      " [8.80000000e+01 3.59519544e+03]\n",
      " [8.90000000e+01 3.63804311e+03]\n",
      " [9.00000000e+01 3.67991137e+03]\n",
      " [9.10000000e+01 3.72178653e+03]\n",
      " [9.20000000e+01 3.76401839e+03]\n",
      " [9.30000000e+01 3.80695401e+03]\n",
      " [9.40000000e+01 3.84962619e+03]\n",
      " [9.50000000e+01 3.89277123e+03]\n",
      " [9.60000000e+01 3.93498575e+03]\n",
      " [9.70000000e+01 3.97733189e+03]\n",
      " [9.80000000e+01 4.01972182e+03]\n",
      " [9.90000000e+01 4.06240400e+03]]\n"
     ]
    },
    {
     "data": {
      "application/javascript": [
       "\n",
       "            setTimeout(function() {\n",
       "                var nbb_cell_id = 30;\n",
       "                var nbb_unformatted_code = \"print(rf_e)\\nprint(rf_tp)\";\n",
       "                var nbb_formatted_code = \"print(rf_e)\\nprint(rf_tp)\";\n",
       "                var nbb_cells = Jupyter.notebook.get_cells();\n",
       "                for (var i = 0; i < nbb_cells.length; ++i) {\n",
       "                    if (nbb_cells[i].input_prompt_number == nbb_cell_id) {\n",
       "                        if (nbb_cells[i].get_text() == nbb_unformatted_code) {\n",
       "                             nbb_cells[i].set_text(nbb_formatted_code);\n",
       "                        }\n",
       "                        break;\n",
       "                    }\n",
       "                }\n",
       "            }, 500);\n",
       "            "
      ],
      "text/plain": [
       "<IPython.core.display.Javascript object>"
      ]
     },
     "metadata": {},
     "output_type": "display_data"
    }
   ],
   "source": [
    "print(rf_e)\n",
    "print(rf_tp)"
   ]
  },
  {
   "cell_type": "code",
   "execution_count": 31,
   "metadata": {},
   "outputs": [
    {
     "data": {
      "image/png": "[encoded data removed]",
      "text/plain": [
       "<Figure size 576x432 with 1 Axes>"
      ]
     },
     "metadata": {
      "needs_background": "light"
     },
     "output_type": "display_data"
    },
    {
     "data": {
      "application/javascript": [
       "\n",
       "            setTimeout(function() {\n",
       "                var nbb_cell_id = 31;\n",
       "                var nbb_unformatted_code = \"rf_evolution_mean = np.mean(rf_e, axis=1)\\n\\nfig = plt.figure(figsize=(8, 6))\\nax = plt.subplot(111)\\nax.plot(sample_sizes, rf_evolution_mean, \\\"r\\\", linewidth=2.5)\\nplt.title(\\\"RF Only\\\", fontsize=14)\\nplt.xlabel(\\\"Number of Training Samples\\\", fontsize=14)\\nplt.ylabel(\\\"Classification Error\\\", fontsize=14)\\n\\nfig.savefig(\\\"sparse_parity_RF_only_100_iters.png\\\")\";\n",
       "                var nbb_formatted_code = \"rf_evolution_mean = np.mean(rf_e, axis=1)\\n\\nfig = plt.figure(figsize=(8, 6))\\nax = plt.subplot(111)\\nax.plot(sample_sizes, rf_evolution_mean, \\\"r\\\", linewidth=2.5)\\nplt.title(\\\"RF Only\\\", fontsize=14)\\nplt.xlabel(\\\"Number of Training Samples\\\", fontsize=14)\\nplt.ylabel(\\\"Classification Error\\\", fontsize=14)\\n\\nfig.savefig(\\\"sparse_parity_RF_only_100_iters.png\\\")\";\n",
       "                var nbb_cells = Jupyter.notebook.get_cells();\n",
       "                for (var i = 0; i < nbb_cells.length; ++i) {\n",
       "                    if (nbb_cells[i].input_prompt_number == nbb_cell_id) {\n",
       "                        if (nbb_cells[i].get_text() == nbb_unformatted_code) {\n",
       "                             nbb_cells[i].set_text(nbb_formatted_code);\n",
       "                        }\n",
       "                        break;\n",
       "                    }\n",
       "                }\n",
       "            }, 500);\n",
       "            "
      ],
      "text/plain": [
       "<IPython.core.display.Javascript object>"
      ]
     },
     "metadata": {},
     "output_type": "display_data"
    }
   ],
   "source": [
    "rf_evolution_mean = np.mean(rf_e, axis=1)\n",
    "\n",
    "fig = plt.figure(figsize=(8, 6))\n",
    "ax = plt.subplot(111)\n",
    "ax.plot(sample_sizes, rf_evolution_mean, \"r\", linewidth=2.5)\n",
    "plt.title(\"RF Only\", fontsize=14)\n",
    "plt.xlabel(\"Number of Training Samples\", fontsize=14)\n",
    "plt.ylabel(\"Classification Error\", fontsize=14)\n",
    "\n",
    "fig.savefig(\"sparse_parity_RF_only_100_iters.png\")"
   ]
  },
  {
   "cell_type": "code",
   "execution_count": 32,
   "metadata": {},
   "outputs": [
    {
     "data": {
      "image/png": "[encoded data removed]",
      "text/plain": [
       "<Figure size 432x360 with 1 Axes>"
      ]
     },
     "metadata": {
      "needs_background": "light"
     },
     "output_type": "display_data"
    },
    {
     "data": {
      "application/javascript": [
       "\n",
       "            setTimeout(function() {\n",
       "                var nbb_cell_id = 32;\n",
       "                var nbb_unformatted_code = \"fig = plt.figure(figsize=(6, 5))\\nax = plt.subplot(111)\\nax.plot(rf_tp[:21, 0], rf_tp[:21, 1] / 60, linewidth=3)\\nplt.title(\\\"Number of Iterations vs Runtime RF Only\\\")\\nplt.xlabel(\\\"Iterations of Experiment\\\")\\nplt.ylabel(\\\"Minutes\\\")\\nplt.xticks(list(range(0, 22, 2)))\\n\\nfig.savefig(\\\"Time_plot_RF_only\\\")\";\n",
       "                var nbb_formatted_code = \"fig = plt.figure(figsize=(6, 5))\\nax = plt.subplot(111)\\nax.plot(rf_tp[:21, 0], rf_tp[:21, 1] / 60, linewidth=3)\\nplt.title(\\\"Number of Iterations vs Runtime RF Only\\\")\\nplt.xlabel(\\\"Iterations of Experiment\\\")\\nplt.ylabel(\\\"Minutes\\\")\\nplt.xticks(list(range(0, 22, 2)))\\n\\nfig.savefig(\\\"Time_plot_RF_only\\\")\";\n",
       "                var nbb_cells = Jupyter.notebook.get_cells();\n",
       "                for (var i = 0; i < nbb_cells.length; ++i) {\n",
       "                    if (nbb_cells[i].input_prompt_number == nbb_cell_id) {\n",
       "                        if (nbb_cells[i].get_text() == nbb_unformatted_code) {\n",
       "                             nbb_cells[i].set_text(nbb_formatted_code);\n",
       "                        }\n",
       "                        break;\n",
       "                    }\n",
       "                }\n",
       "            }, 500);\n",
       "            "
      ],
      "text/plain": [
       "<IPython.core.display.Javascript object>"
      ]
     },
     "metadata": {},
     "output_type": "display_data"
    }
   ],
   "source": [
    "fig = plt.figure(figsize=(6, 5))\n",
    "ax = plt.subplot(111)\n",
    "ax.plot(rf_tp[:21, 0], rf_tp[:21, 1] / 60, linewidth=3)\n",
    "plt.title(\"Number of Iterations vs Runtime RF Only\")\n",
    "plt.xlabel(\"Iterations of Experiment\")\n",
    "plt.ylabel(\"Minutes\")\n",
    "plt.xticks(list(range(0, 22, 2)))\n",
    "\n",
    "fig.savefig(\"Time_plot_RF_only\")"
   ]
  },
  {
   "cell_type": "code",
   "execution_count": null,
   "metadata": {},
   "outputs": [],
   "source": []
  },
  {
   "cell_type": "code",
   "execution_count": null,
   "metadata": {},
   "outputs": [],
   "source": []
  },
  {
   "cell_type": "code",
   "execution_count": null,
   "metadata": {},
   "outputs": [],
   "source": []
  },
  {
   "cell_type": "code",
   "execution_count": null,
   "metadata": {},
   "outputs": [],
   "source": []
  },
  {
   "cell_type": "code",
   "execution_count": 19,
   "metadata": {},
   "outputs": [
    {
     "data": {
      "application/javascript": [
       "\n",
       "            setTimeout(function() {\n",
       "                var nbb_cell_id = 19;\n",
       "                var nbb_unformatted_code = \"from sklearn.model_selection import train_test_split\\nimport time\\n\\n\\ndef test_suite_timed(\\n    p,\\n    p_star,\\n    iterations,\\n    output_nodes,\\n    hidden_nodes,\\n    n_jobs,\\n    sample_sizes=[500, 1000, 2000, 3000, 5000, 7000, 10000, 15000, 20000, 30000],\\n    num_trees=100,\\n    max_depth=None,\\n    rf_verbose=1,\\n    epochs=10,\\n    batch_size=50,\\n    learning_rate=0.001,\\n    validation_split=0.3,\\n    dnn_verbose=1,\\n):\\n\\n    #     rf_evolution = np.zeros((len(sample_sizes), iterations))\\n    dnn_evolution = np.zeros((len(sample_sizes), iterations))\\n\\n    start_time = time.time()\\n    time_plot = np.zeros([iterations, 2])\\n\\n    for iteration in range(iterations):\\n        print(\\\"iteration: \\\", iteration)\\n\\n        for sample_size_index, max_sample_size in enumerate(sample_sizes):\\n            print(\\\"Max sample size: \\\", max_sample_size)\\n\\n            X, y = sparse_parity(max_sample_size, p, p_star)\\n            print(X.shape)\\n            print(y.shape)\\n            X_train, X_test, y_train, y_test = train_test_split(\\n                X, y, test_size=0.3, random_state=101\\n            )\\n\\n            #             rf_model = random_forest_classifier_model(\\n            #                 X_train=X_train,\\n            #                 y_train=y_train,\\n            #                 num_trees=num_trees,\\n            #                 max_depth=max_depth,\\n            #                 n_jobs=n_jobs,\\n            #                 verbose=rf_verbose,\\n            #             )\\n\\n            #             rf_predictions = rf_model.predict(X_test)\\n            #             rf_error = 1 - accuracy_score(y_test, rf_predictions)\\n            #             rf_evolution[sample_size_index][iteration] = rf_error\\n            #             print(\\\"\\\\n\\\\nRF ERROR: \\\\n\\\\n\\\", rf_error)\\n\\n            #                     rf_evolution[sample_size_index][iteration] = rf_error\\n\\n            if output_nodes == 1:\\n                dnn_model = binary_deep_neural_network(\\n                    X_train=X_train,\\n                    y_train=y_train,\\n                    epochs=epochs,\\n                    batch_size=batch_size,\\n                    learning_rate=learning_rate,\\n                    validation_split=validation_split,\\n                    hidden_nodes=hidden_nodes,\\n                    verbose=dnn_verbose,\\n                )\\n            else:\\n                y_train = to_categorical(y_train, num_classes=output_nodes)\\n                y_test = to_categorical(y_test, num_classes=output_nodes)\\n\\n                dnn_model = multiclass_deep_neural_network(\\n                    X_train=X_train,\\n                    y_train=y_train,\\n                    epochs=epochs,\\n                    batch_size=batch_size,\\n                    learning_rate=learning_rate,\\n                    validation_split=validation_split,\\n                    output_nodes=output_nodes,\\n                    verbose=dnn_verbose,\\n                )\\n\\n            score = dnn_model.evaluate(\\n                X_test,\\n                y_test,\\n                batch_size=None,\\n                verbose=0,\\n                sample_weight=None,\\n                steps=None,\\n                callbacks=None,\\n                max_queue_size=10,\\n                workers=1,\\n                use_multiprocessing=False,\\n                return_dict=False,\\n            )\\n\\n            dnn_error = 1 - score[1]\\n            dnn_evolution[sample_size_index][iteration] = dnn_error\\n\\n        current_time = time.time()\\n        time_plot[iteration, :] = [iteration, current_time - start_time]\\n\\n    return dnn_evolution, time_plot\";\n",
       "                var nbb_formatted_code = \"from sklearn.model_selection import train_test_split\\nimport time\\n\\n\\ndef test_suite_timed(\\n    p,\\n    p_star,\\n    iterations,\\n    output_nodes,\\n    hidden_nodes,\\n    n_jobs,\\n    sample_sizes=[500, 1000, 2000, 3000, 5000, 7000, 10000, 15000, 20000, 30000],\\n    num_trees=100,\\n    max_depth=None,\\n    rf_verbose=1,\\n    epochs=10,\\n    batch_size=50,\\n    learning_rate=0.001,\\n    validation_split=0.3,\\n    dnn_verbose=1,\\n):\\n\\n    #     rf_evolution = np.zeros((len(sample_sizes), iterations))\\n    dnn_evolution = np.zeros((len(sample_sizes), iterations))\\n\\n    start_time = time.time()\\n    time_plot = np.zeros([iterations, 2])\\n\\n    for iteration in range(iterations):\\n        print(\\\"iteration: \\\", iteration)\\n\\n        for sample_size_index, max_sample_size in enumerate(sample_sizes):\\n            print(\\\"Max sample size: \\\", max_sample_size)\\n\\n            X, y = sparse_parity(max_sample_size, p, p_star)\\n            print(X.shape)\\n            print(y.shape)\\n            X_train, X_test, y_train, y_test = train_test_split(\\n                X, y, test_size=0.3, random_state=101\\n            )\\n\\n            #             rf_model = random_forest_classifier_model(\\n            #                 X_train=X_train,\\n            #                 y_train=y_train,\\n            #                 num_trees=num_trees,\\n            #                 max_depth=max_depth,\\n            #                 n_jobs=n_jobs,\\n            #                 verbose=rf_verbose,\\n            #             )\\n\\n            #             rf_predictions = rf_model.predict(X_test)\\n            #             rf_error = 1 - accuracy_score(y_test, rf_predictions)\\n            #             rf_evolution[sample_size_index][iteration] = rf_error\\n            #             print(\\\"\\\\n\\\\nRF ERROR: \\\\n\\\\n\\\", rf_error)\\n\\n            #                     rf_evolution[sample_size_index][iteration] = rf_error\\n\\n            if output_nodes == 1:\\n                dnn_model = binary_deep_neural_network(\\n                    X_train=X_train,\\n                    y_train=y_train,\\n                    epochs=epochs,\\n                    batch_size=batch_size,\\n                    learning_rate=learning_rate,\\n                    validation_split=validation_split,\\n                    hidden_nodes=hidden_nodes,\\n                    verbose=dnn_verbose,\\n                )\\n            else:\\n                y_train = to_categorical(y_train, num_classes=output_nodes)\\n                y_test = to_categorical(y_test, num_classes=output_nodes)\\n\\n                dnn_model = multiclass_deep_neural_network(\\n                    X_train=X_train,\\n                    y_train=y_train,\\n                    epochs=epochs,\\n                    batch_size=batch_size,\\n                    learning_rate=learning_rate,\\n                    validation_split=validation_split,\\n                    output_nodes=output_nodes,\\n                    verbose=dnn_verbose,\\n                )\\n\\n            score = dnn_model.evaluate(\\n                X_test,\\n                y_test,\\n                batch_size=None,\\n                verbose=0,\\n                sample_weight=None,\\n                steps=None,\\n                callbacks=None,\\n                max_queue_size=10,\\n                workers=1,\\n                use_multiprocessing=False,\\n                return_dict=False,\\n            )\\n\\n            dnn_error = 1 - score[1]\\n            dnn_evolution[sample_size_index][iteration] = dnn_error\\n\\n        current_time = time.time()\\n        time_plot[iteration, :] = [iteration, current_time - start_time]\\n\\n    return dnn_evolution, time_plot\";\n",
       "                var nbb_cells = Jupyter.notebook.get_cells();\n",
       "                for (var i = 0; i < nbb_cells.length; ++i) {\n",
       "                    if (nbb_cells[i].input_prompt_number == nbb_cell_id) {\n",
       "                        if (nbb_cells[i].get_text() == nbb_unformatted_code) {\n",
       "                             nbb_cells[i].set_text(nbb_formatted_code);\n",
       "                        }\n",
       "                        break;\n",
       "                    }\n",
       "                }\n",
       "            }, 500);\n",
       "            "
      ],
      "text/plain": [
       "<IPython.core.display.Javascript object>"
      ]
     },
     "metadata": {},
     "output_type": "display_data"
    }
   ],
   "source": [
    "from sklearn.model_selection import train_test_split\n",
    "import time\n",
    "\n",
    "\n",
    "def test_suite_timed(\n",
    "    p,\n",
    "    p_star,\n",
    "    iterations,\n",
    "    output_nodes,\n",
    "    hidden_nodes,\n",
    "    n_jobs,\n",
    "    sample_sizes=[500, 1000, 2000, 3000, 5000, 7000, 10000, 15000, 20000, 30000],\n",
    "    num_trees=100,\n",
    "    max_depth=None,\n",
    "    rf_verbose=1,\n",
    "    epochs=10,\n",
    "    batch_size=50,\n",
    "    learning_rate=0.001,\n",
    "    validation_split=0.3,\n",
    "    dnn_verbose=1,\n",
    "):\n",
    "\n",
    "    #     rf_evolution = np.zeros((len(sample_sizes), iterations))\n",
    "    dnn_evolution = np.zeros((len(sample_sizes), iterations))\n",
    "\n",
    "    start_time = time.time()\n",
    "    time_plot = np.zeros([iterations, 2])\n",
    "\n",
    "    for iteration in range(iterations):\n",
    "        print(\"iteration: \", iteration)\n",
    "\n",
    "        for sample_size_index, max_sample_size in enumerate(sample_sizes):\n",
    "            print(\"Max sample size: \", max_sample_size)\n",
    "\n",
    "            X, y = sparse_parity(max_sample_size, p, p_star)\n",
    "            print(X.shape)\n",
    "            print(y.shape)\n",
    "            X_train, X_test, y_train, y_test = train_test_split(\n",
    "                X, y, test_size=0.3, random_state=101\n",
    "            )\n",
    "\n",
    "            #             rf_model = random_forest_classifier_model(\n",
    "            #                 X_train=X_train,\n",
    "            #                 y_train=y_train,\n",
    "            #                 num_trees=num_trees,\n",
    "            #                 max_depth=max_depth,\n",
    "            #                 n_jobs=n_jobs,\n",
    "            #                 verbose=rf_verbose,\n",
    "            #             )\n",
    "\n",
    "            #             rf_predictions = rf_model.predict(X_test)\n",
    "            #             rf_error = 1 - accuracy_score(y_test, rf_predictions)\n",
    "            #             rf_evolution[sample_size_index][iteration] = rf_error\n",
    "            #             print(\"\\n\\nRF ERROR: \\n\\n\", rf_error)\n",
    "\n",
    "            #                     rf_evolution[sample_size_index][iteration] = rf_error\n",
    "\n",
    "            if output_nodes == 1:\n",
    "                dnn_model = binary_deep_neural_network(\n",
    "                    X_train=X_train,\n",
    "                    y_train=y_train,\n",
    "                    epochs=epochs,\n",
    "                    batch_size=batch_size,\n",
    "                    learning_rate=learning_rate,\n",
    "                    validation_split=validation_split,\n",
    "                    hidden_nodes=hidden_nodes,\n",
    "                    verbose=dnn_verbose,\n",
    "                )\n",
    "            else:\n",
    "                y_train = to_categorical(y_train, num_classes=output_nodes)\n",
    "                y_test = to_categorical(y_test, num_classes=output_nodes)\n",
    "\n",
    "                dnn_model = multiclass_deep_neural_network(\n",
    "                    X_train=X_train,\n",
    "                    y_train=y_train,\n",
    "                    epochs=epochs,\n",
    "                    batch_size=batch_size,\n",
    "                    learning_rate=learning_rate,\n",
    "                    validation_split=validation_split,\n",
    "                    output_nodes=output_nodes,\n",
    "                    verbose=dnn_verbose,\n",
    "                )\n",
    "\n",
    "            score = dnn_model.evaluate(\n",
    "                X_test,\n",
    "                y_test,\n",
    "                batch_size=None,\n",
    "                verbose=0,\n",
    "                sample_weight=None,\n",
    "                steps=None,\n",
    "                callbacks=None,\n",
    "                max_queue_size=10,\n",
    "                workers=1,\n",
    "                use_multiprocessing=False,\n",
    "                return_dict=False,\n",
    "            )\n",
    "\n",
    "            dnn_error = 1 - score[1]\n",
    "            dnn_evolution[sample_size_index][iteration] = dnn_error\n",
    "\n",
    "        current_time = time.time()\n",
    "        time_plot[iteration, :] = [iteration, current_time - start_time]\n",
    "\n",
    "    return dnn_evolution, time_plot"
   ]
  },
  {
   "cell_type": "code",
   "execution_count": null,
   "metadata": {},
   "outputs": [],
   "source": [
    "sample_sizes = [\n",
    "    500,\n",
    "    1000,\n",
    "    2000,\n",
    "    3000,\n",
    "    5000,\n",
    "    7000,\n",
    "    10000,\n",
    "    12500,\n",
    "    15000,\n",
    "    20000,\n",
    "    25000,\n",
    "    30000,\n",
    "    35000,\n",
    "]\n",
    "import time\n",
    "\n",
    "# sample_sizes = [500, 1000, 2000]\n",
    "\n",
    "start = time.time()\n",
    "dnn_e_4hn_3bs, dnn_tp_4hn_3bs = test_suite_timed(\n",
    "    p=14,\n",
    "    p_star=3,\n",
    "    n_jobs=-1,\n",
    "    iterations=100,\n",
    "    output_nodes=1,\n",
    "    sample_sizes=sample_sizes,\n",
    "    num_trees=500,\n",
    "    hidden_nodes=4,\n",
    "    rf_verbose=1,\n",
    "    batch_size=3,\n",
    ")\n",
    "end = time.time()\n",
    "print(\"\\n\\nTOTAL RUNTIME: \\n\\n\", end - start)"
   ]
  },
  {
   "cell_type": "code",
   "execution_count": 21,
   "metadata": {},
   "outputs": [
    {
     "name": "stdout",
     "output_type": "stream",
     "text": [
      "Stored 'dnn_e_4hn_3bs' (ndarray)\n",
      "Stored 'dnn_tp_4hn_3bs' (ndarray)\n"
     ]
    },
    {
     "data": {
      "application/javascript": [
       "\n",
       "            setTimeout(function() {\n",
       "                var nbb_cell_id = 21;\n",
       "                var nbb_unformatted_code = \"# %store dnn_e_6hn_5bs\\n# %store dnn_tp_6hn_5bs\\n\\n# %store dnn_e_5hn_5bs\\n# %store dnn_tp_5hn_5bs\\n\\n# %store dnn_e_4hn_4bs\\n# %store dnn_tp_4hn_4bs\\n\\n# %store dnn_e_4hn_2bs\\n# %store dnn_tp_4hn_2bs\\n\\n%store dnn_e_4hn_3bs\\n%store dnn_tp_4hn_3bs\";\n",
       "                var nbb_formatted_code = \"# %store dnn_e_6hn_5bs\\n# %store dnn_tp_6hn_5bs\\n\\n# %store dnn_e_5hn_5bs\\n# %store dnn_tp_5hn_5bs\\n\\n# %store dnn_e_4hn_4bs\\n# %store dnn_tp_4hn_4bs\\n\\n# %store dnn_e_4hn_2bs\\n# %store dnn_tp_4hn_2bs\\n\\n%store dnn_e_4hn_3bs\\n%store dnn_tp_4hn_3bs\";\n",
       "                var nbb_cells = Jupyter.notebook.get_cells();\n",
       "                for (var i = 0; i < nbb_cells.length; ++i) {\n",
       "                    if (nbb_cells[i].input_prompt_number == nbb_cell_id) {\n",
       "                        if (nbb_cells[i].get_text() == nbb_unformatted_code) {\n",
       "                             nbb_cells[i].set_text(nbb_formatted_code);\n",
       "                        }\n",
       "                        break;\n",
       "                    }\n",
       "                }\n",
       "            }, 500);\n",
       "            "
      ],
      "text/plain": [
       "<IPython.core.display.Javascript object>"
      ]
     },
     "metadata": {},
     "output_type": "display_data"
    }
   ],
   "source": [
    "# %store dnn_e_6hn_5bs\n",
    "# %store dnn_tp_6hn_5bs\n",
    "\n",
    "# %store dnn_e_5hn_5bs\n",
    "# %store dnn_tp_5hn_5bs\n",
    "\n",
    "# %store dnn_e_4hn_4bs\n",
    "# %store dnn_tp_4hn_4bs\n",
    "\n",
    "# %store dnn_e_4hn_2bs\n",
    "# %store dnn_tp_4hn_2bs\n",
    "\n",
    "%store dnn_e_4hn_3bs\n",
    "%store dnn_tp_4hn_3bs"
   ]
  },
  {
   "cell_type": "code",
   "execution_count": null,
   "metadata": {},
   "outputs": [],
   "source": []
  },
  {
   "cell_type": "code",
   "execution_count": null,
   "metadata": {},
   "outputs": [],
   "source": []
  },
  {
   "cell_type": "code",
   "execution_count": null,
   "metadata": {},
   "outputs": [],
   "source": []
  },
  {
   "cell_type": "code",
   "execution_count": 6,
   "metadata": {},
   "outputs": [
    {
     "data": {
      "application/javascript": [
       "\n",
       "            setTimeout(function() {\n",
       "                var nbb_cell_id = 6;\n",
       "                var nbb_unformatted_code = \"%store -r dnn_e_4hn_3bs\";\n",
       "                var nbb_formatted_code = \"%store -r dnn_e_4hn_3bs\";\n",
       "                var nbb_cells = Jupyter.notebook.get_cells();\n",
       "                for (var i = 0; i < nbb_cells.length; ++i) {\n",
       "                    if (nbb_cells[i].input_prompt_number == nbb_cell_id) {\n",
       "                        if (nbb_cells[i].get_text() == nbb_unformatted_code) {\n",
       "                             nbb_cells[i].set_text(nbb_formatted_code);\n",
       "                        }\n",
       "                        break;\n",
       "                    }\n",
       "                }\n",
       "            }, 500);\n",
       "            "
      ],
      "text/plain": [
       "<IPython.core.display.Javascript object>"
      ]
     },
     "metadata": {},
     "output_type": "display_data"
    }
   ],
   "source": [
    "%store -r dnn_e_4hn_3bs"
   ]
  },
  {
   "cell_type": "code",
   "execution_count": 33,
   "metadata": {},
   "outputs": [
    {
     "data": {
      "application/javascript": [
       "\n",
       "            setTimeout(function() {\n",
       "                var nbb_cell_id = 33;\n",
       "                var nbb_unformatted_code = \"sample_sizes = [\\n    500,\\n    1000,\\n    2000,\\n    3000,\\n    5000,\\n    7000,\\n    10000,\\n    12500,\\n    15000,\\n    20000,\\n    25000,\\n    30000,\\n    35000,\\n]\\n\\nscaled_sample_sizes = [int(ss*0.7) for ss in sample_sizes]\";\n",
       "                var nbb_formatted_code = \"sample_sizes = [\\n    500,\\n    1000,\\n    2000,\\n    3000,\\n    5000,\\n    7000,\\n    10000,\\n    12500,\\n    15000,\\n    20000,\\n    25000,\\n    30000,\\n    35000,\\n]\\n\\nscaled_sample_sizes = [int(ss * 0.7) for ss in sample_sizes]\";\n",
       "                var nbb_cells = Jupyter.notebook.get_cells();\n",
       "                for (var i = 0; i < nbb_cells.length; ++i) {\n",
       "                    if (nbb_cells[i].input_prompt_number == nbb_cell_id) {\n",
       "                        if (nbb_cells[i].get_text() == nbb_unformatted_code) {\n",
       "                             nbb_cells[i].set_text(nbb_formatted_code);\n",
       "                        }\n",
       "                        break;\n",
       "                    }\n",
       "                }\n",
       "            }, 500);\n",
       "            "
      ],
      "text/plain": [
       "<IPython.core.display.Javascript object>"
      ]
     },
     "metadata": {},
     "output_type": "display_data"
    }
   ],
   "source": [
    "sample_sizes = [\n",
    "    500,\n",
    "    1000,\n",
    "    2000,\n",
    "    3000,\n",
    "    5000,\n",
    "    7000,\n",
    "    10000,\n",
    "    12500,\n",
    "    15000,\n",
    "    20000,\n",
    "    25000,\n",
    "    30000,\n",
    "    35000,\n",
    "]\n",
    "\n",
    "scaled_sample_sizes = [int(ss * 0.7) for ss in sample_sizes]"
   ]
  },
  {
   "cell_type": "code",
   "execution_count": 34,
   "metadata": {},
   "outputs": [
    {
     "data": {
      "text/plain": [
       "Text(0, 0.5, 'Classification Error')"
      ]
     },
     "execution_count": 34,
     "metadata": {},
     "output_type": "execute_result"
    },
    {
     "data": {
      "image/png": "[encoded data removed]",
      "text/plain": [
       "<Figure size 576x432 with 1 Axes>"
      ]
     },
     "metadata": {
      "needs_background": "light"
     },
     "output_type": "display_data"
    },
    {
     "data": {
      "application/javascript": [
       "\n",
       "            setTimeout(function() {\n",
       "                var nbb_cell_id = 34;\n",
       "                var nbb_unformatted_code = \"dnn_e_4hn_3bs_mean = np.mean(dnn_e_4hn_3bs, axis=1)\\n\\nfig = plt.figure(figsize=(8, 6))\\nax = plt.subplot(111)\\nax.plot(scaled_sample_sizes, dnn_e_4hn_3bs_mean, linewidth=1.5, c=\\\"maroon\\\")\\n\\n# ax.plot(sample_sizes, rf_evolution_mean, linewidth=2.5, c=\\\"black\\\", linestyle=\\\"dashed\\\")\\n\\nplt.title(\\\"DN 4 hidden nodes 3 batch size 10 iterations\\\", fontsize=14)\\nplt.xlabel(\\\"Number of Training Samples\\\", fontsize=14)\\nplt.ylabel(\\\"Classification Error\\\", fontsize=14)\\n# plt.legend(\\n#     [\\n#         \\\"4 Hidden Nodes\\\",\\n#         \\\"5 Hidden Nodes\\\",\\n#         \\\"6 Hidden Nodes\\\",\\n#         \\\"7 Hidden Nodes\\\",\\n#         \\\"Random Forest\\\",\\n#     ],\\n#     prop={\\\"size\\\": 12},\\n# )\\n\\n# fig.savefig(\\\"Final Figures/dnn_4hn_3bs_10iters.png\\\")\";\n",
       "                var nbb_formatted_code = \"dnn_e_4hn_3bs_mean = np.mean(dnn_e_4hn_3bs, axis=1)\\n\\nfig = plt.figure(figsize=(8, 6))\\nax = plt.subplot(111)\\nax.plot(scaled_sample_sizes, dnn_e_4hn_3bs_mean, linewidth=1.5, c=\\\"maroon\\\")\\n\\n# ax.plot(sample_sizes, rf_evolution_mean, linewidth=2.5, c=\\\"black\\\", linestyle=\\\"dashed\\\")\\n\\nplt.title(\\\"DN 4 hidden nodes 3 batch size 10 iterations\\\", fontsize=14)\\nplt.xlabel(\\\"Number of Training Samples\\\", fontsize=14)\\nplt.ylabel(\\\"Classification Error\\\", fontsize=14)\\n# plt.legend(\\n#     [\\n#         \\\"4 Hidden Nodes\\\",\\n#         \\\"5 Hidden Nodes\\\",\\n#         \\\"6 Hidden Nodes\\\",\\n#         \\\"7 Hidden Nodes\\\",\\n#         \\\"Random Forest\\\",\\n#     ],\\n#     prop={\\\"size\\\": 12},\\n# )\\n\\n# fig.savefig(\\\"Final Figures/dnn_4hn_3bs_10iters.png\\\")\";\n",
       "                var nbb_cells = Jupyter.notebook.get_cells();\n",
       "                for (var i = 0; i < nbb_cells.length; ++i) {\n",
       "                    if (nbb_cells[i].input_prompt_number == nbb_cell_id) {\n",
       "                        if (nbb_cells[i].get_text() == nbb_unformatted_code) {\n",
       "                             nbb_cells[i].set_text(nbb_formatted_code);\n",
       "                        }\n",
       "                        break;\n",
       "                    }\n",
       "                }\n",
       "            }, 500);\n",
       "            "
      ],
      "text/plain": [
       "<IPython.core.display.Javascript object>"
      ]
     },
     "metadata": {},
     "output_type": "display_data"
    }
   ],
   "source": [
    "dnn_e_4hn_3bs_mean = np.mean(dnn_e_4hn_3bs, axis=1)\n",
    "\n",
    "fig = plt.figure(figsize=(8, 6))\n",
    "ax = plt.subplot(111)\n",
    "ax.plot(scaled_sample_sizes, dnn_e_4hn_3bs_mean, linewidth=1.5, c=\"maroon\")\n",
    "\n",
    "# ax.plot(sample_sizes, rf_evolution_mean, linewidth=2.5, c=\"black\", linestyle=\"dashed\")\n",
    "\n",
    "plt.title(\"DN 4 hidden nodes 3 batch size 10 iterations\", fontsize=14)\n",
    "plt.xlabel(\"Number of Training Samples\", fontsize=14)\n",
    "plt.ylabel(\"Classification Error\", fontsize=14)\n",
    "# plt.legend(\n",
    "#     [\n",
    "#         \"4 Hidden Nodes\",\n",
    "#         \"5 Hidden Nodes\",\n",
    "#         \"6 Hidden Nodes\",\n",
    "#         \"7 Hidden Nodes\",\n",
    "#         \"Random Forest\",\n",
    "#     ],\n",
    "#     prop={\"size\": 12},\n",
    "# )\n",
    "\n",
    "# fig.savefig(\"Final Figures/dnn_4hn_3bs_10iters.png\")"
   ]
  },
  {
   "cell_type": "code",
   "execution_count": 35,
   "metadata": {},
   "outputs": [
    {
     "data": {
      "text/plain": [
       "Text(0, 0.5, 'Classification Error')"
      ]
     },
     "execution_count": 35,
     "metadata": {},
     "output_type": "execute_result"
    },
    {
     "data": {
      "image/png": "[encoded data removed]",
      "text/plain": [
       "<Figure size 576x432 with 1 Axes>"
      ]
     },
     "metadata": {
      "needs_background": "light"
     },
     "output_type": "display_data"
    },
    {
     "data": {
      "application/javascript": [
       "\n",
       "            setTimeout(function() {\n",
       "                var nbb_cell_id = 35;\n",
       "                var nbb_unformatted_code = \"%store -r rf_e\\nrf_e_mean = np.mean(rf_e, axis=1)\\n\\nfig = plt.figure(figsize=(8, 6))\\nax = plt.subplot(111)\\nax.plot(scaled_sample_sizes, dnn_e_4hn_3bs_mean, linewidth=1.5, c=\\\"maroon\\\")\\n\\nax.plot(scaled_sample_sizes, rf_e_mean, linewidth=2.5, c=\\\"black\\\", linestyle=\\\"dashed\\\")\\n\\nplt.title(\\\"DN 4 hidden nodes 3 batch size 10 iterations vs RF\\\", fontsize=14)\\nplt.xlabel(\\\"Number of Training Samples\\\", fontsize=14)\\nplt.ylabel(\\\"Classification Error\\\", fontsize=14)\\n# plt.legend(\\n#     [\\n#         \\\"4 Hidden Nodes\\\",\\n#         \\\"5 Hidden Nodes\\\",\\n#         \\\"6 Hidden Nodes\\\",\\n#         \\\"7 Hidden Nodes\\\",\\n#         \\\"Random Forest\\\",\\n#     ],\\n#     prop={\\\"size\\\": 12},\\n# )\\n\\n# fig.savefig(\\\"Final Figures/dnn_4hn_3bs_10iters_rf_overlay.png\\\")\";\n",
       "                var nbb_formatted_code = \"%store -r rf_e\\nrf_e_mean = np.mean(rf_e, axis=1)\\n\\nfig = plt.figure(figsize=(8, 6))\\nax = plt.subplot(111)\\nax.plot(scaled_sample_sizes, dnn_e_4hn_3bs_mean, linewidth=1.5, c=\\\"maroon\\\")\\n\\nax.plot(scaled_sample_sizes, rf_e_mean, linewidth=2.5, c=\\\"black\\\", linestyle=\\\"dashed\\\")\\n\\nplt.title(\\\"DN 4 hidden nodes 3 batch size 10 iterations vs RF\\\", fontsize=14)\\nplt.xlabel(\\\"Number of Training Samples\\\", fontsize=14)\\nplt.ylabel(\\\"Classification Error\\\", fontsize=14)\\n# plt.legend(\\n#     [\\n#         \\\"4 Hidden Nodes\\\",\\n#         \\\"5 Hidden Nodes\\\",\\n#         \\\"6 Hidden Nodes\\\",\\n#         \\\"7 Hidden Nodes\\\",\\n#         \\\"Random Forest\\\",\\n#     ],\\n#     prop={\\\"size\\\": 12},\\n# )\\n\\n# fig.savefig(\\\"Final Figures/dnn_4hn_3bs_10iters_rf_overlay.png\\\")\";\n",
       "                var nbb_cells = Jupyter.notebook.get_cells();\n",
       "                for (var i = 0; i < nbb_cells.length; ++i) {\n",
       "                    if (nbb_cells[i].input_prompt_number == nbb_cell_id) {\n",
       "                        if (nbb_cells[i].get_text() == nbb_unformatted_code) {\n",
       "                             nbb_cells[i].set_text(nbb_formatted_code);\n",
       "                        }\n",
       "                        break;\n",
       "                    }\n",
       "                }\n",
       "            }, 500);\n",
       "            "
      ],
      "text/plain": [
       "<IPython.core.display.Javascript object>"
      ]
     },
     "metadata": {},
     "output_type": "display_data"
    }
   ],
   "source": [
    "%store -r rf_e\n",
    "rf_e_mean = np.mean(rf_e, axis=1)\n",
    "\n",
    "fig = plt.figure(figsize=(8, 6))\n",
    "ax = plt.subplot(111)\n",
    "ax.plot(scaled_sample_sizes, dnn_e_4hn_3bs_mean, linewidth=1.5, c=\"maroon\")\n",
    "\n",
    "ax.plot(scaled_sample_sizes, rf_e_mean, linewidth=2.5, c=\"black\", linestyle=\"dashed\")\n",
    "\n",
    "plt.title(\"DN 4 hidden nodes 3 batch size 10 iterations vs RF\", fontsize=14)\n",
    "plt.xlabel(\"Number of Training Samples\", fontsize=14)\n",
    "plt.ylabel(\"Classification Error\", fontsize=14)\n",
    "# plt.legend(\n",
    "#     [\n",
    "#         \"4 Hidden Nodes\",\n",
    "#         \"5 Hidden Nodes\",\n",
    "#         \"6 Hidden Nodes\",\n",
    "#         \"7 Hidden Nodes\",\n",
    "#         \"Random Forest\",\n",
    "#     ],\n",
    "#     prop={\"size\": 12},\n",
    "# )\n",
    "\n",
    "# fig.savefig(\"Final Figures/dnn_4hn_3bs_10iters_rf_overlay.png\")"
   ]
  },
  {
   "cell_type": "code",
   "execution_count": null,
   "metadata": {},
   "outputs": [],
   "source": []
  },
  {
   "cell_type": "code",
   "execution_count": 36,
   "metadata": {},
   "outputs": [
    {
     "data": {
      "text/plain": [
       "<matplotlib.legend.Legend at 0x7feeb8f2d550>"
      ]
     },
     "execution_count": 36,
     "metadata": {},
     "output_type": "execute_result"
    },
    {
     "data": {
      "image/png": "[encoded data removed]",
      "text/plain": [
       "<Figure size 576x432 with 1 Axes>"
      ]
     },
     "metadata": {
      "needs_background": "light"
     },
     "output_type": "display_data"
    },
    {
     "data": {
      "application/javascript": [
       "\n",
       "            setTimeout(function() {\n",
       "                var nbb_cell_id = 36;\n",
       "                var nbb_unformatted_code = \"dnn_e_4hn_3bs_mean = np.mean(dnn_e_4hn_3bs, axis=1)\\n\\nyerr_dn = stats.sem(dnn_e_4hn_3bs, axis=1)\\nyerr_rf = stats.sem(rf_e, axis=1)\\n\\nrf_e_mean = np.mean(rf_e, axis=1)\\n\\nfig = plt.figure(figsize=(8, 6))\\nax = plt.subplot(111)\\n# ax.plot(sample_sizes, dnn_e_4hn_3bs_mean, linewidth=1.5, c=\\\"maroon\\\")\\n# ax.plot(sample_sizes, rf_e_mean, linewidth=2.5, c=\\\"black\\\", linestyle=\\\"dashed\\\")\\nax.errorbar(\\n    scaled_sample_sizes, dnn_e_4hn_3bs_mean, yerr=yerr_dn, linewidth=2.5, c=\\\"b\\\", alpha=0.7\\n)\\nax.errorbar(scaled_sample_sizes, rf_e_mean, yerr=yerr_rf, linewidth=2.5, c=\\\"r\\\", alpha=0.7)\\n\\nplt.title(\\\"Sparse Parity -- DN 4 Hidden Nodes, 3 Batch Size vs RF\\\", fontsize=14)\\nplt.xlabel(\\\"Number of Training Samples\\\", fontsize=14)\\nplt.ylabel(\\\"Classification Error\\\", fontsize=14)\\nplt.legend([\\\"DN with standard error\\\", \\\"RF with standard error\\\"], prop={\\\"size\\\": 14})\\n\\n# fig.savefig(\\\"Final Figures/dnn_4hn_3bs_10iters_rf_overlay_FINAL.png\\\")\";\n",
       "                var nbb_formatted_code = \"dnn_e_4hn_3bs_mean = np.mean(dnn_e_4hn_3bs, axis=1)\\n\\nyerr_dn = stats.sem(dnn_e_4hn_3bs, axis=1)\\nyerr_rf = stats.sem(rf_e, axis=1)\\n\\nrf_e_mean = np.mean(rf_e, axis=1)\\n\\nfig = plt.figure(figsize=(8, 6))\\nax = plt.subplot(111)\\n# ax.plot(sample_sizes, dnn_e_4hn_3bs_mean, linewidth=1.5, c=\\\"maroon\\\")\\n# ax.plot(sample_sizes, rf_e_mean, linewidth=2.5, c=\\\"black\\\", linestyle=\\\"dashed\\\")\\nax.errorbar(\\n    scaled_sample_sizes,\\n    dnn_e_4hn_3bs_mean,\\n    yerr=yerr_dn,\\n    linewidth=2.5,\\n    c=\\\"b\\\",\\n    alpha=0.7,\\n)\\nax.errorbar(\\n    scaled_sample_sizes, rf_e_mean, yerr=yerr_rf, linewidth=2.5, c=\\\"r\\\", alpha=0.7\\n)\\n\\nplt.title(\\\"Sparse Parity -- DN 4 Hidden Nodes, 3 Batch Size vs RF\\\", fontsize=14)\\nplt.xlabel(\\\"Number of Training Samples\\\", fontsize=14)\\nplt.ylabel(\\\"Classification Error\\\", fontsize=14)\\nplt.legend([\\\"DN with standard error\\\", \\\"RF with standard error\\\"], prop={\\\"size\\\": 14})\\n\\n# fig.savefig(\\\"Final Figures/dnn_4hn_3bs_10iters_rf_overlay_FINAL.png\\\")\";\n",
       "                var nbb_cells = Jupyter.notebook.get_cells();\n",
       "                for (var i = 0; i < nbb_cells.length; ++i) {\n",
       "                    if (nbb_cells[i].input_prompt_number == nbb_cell_id) {\n",
       "                        if (nbb_cells[i].get_text() == nbb_unformatted_code) {\n",
       "                             nbb_cells[i].set_text(nbb_formatted_code);\n",
       "                        }\n",
       "                        break;\n",
       "                    }\n",
       "                }\n",
       "            }, 500);\n",
       "            "
      ],
      "text/plain": [
       "<IPython.core.display.Javascript object>"
      ]
     },
     "metadata": {},
     "output_type": "display_data"
    }
   ],
   "source": [
    "dnn_e_4hn_3bs_mean = np.mean(dnn_e_4hn_3bs, axis=1)\n",
    "\n",
    "yerr_dn = stats.sem(dnn_e_4hn_3bs, axis=1)\n",
    "yerr_rf = stats.sem(rf_e, axis=1)\n",
    "\n",
    "rf_e_mean = np.mean(rf_e, axis=1)\n",
    "\n",
    "fig = plt.figure(figsize=(8, 6))\n",
    "ax = plt.subplot(111)\n",
    "# ax.plot(sample_sizes, dnn_e_4hn_3bs_mean, linewidth=1.5, c=\"maroon\")\n",
    "# ax.plot(sample_sizes, rf_e_mean, linewidth=2.5, c=\"black\", linestyle=\"dashed\")\n",
    "ax.errorbar(\n",
    "    scaled_sample_sizes,\n",
    "    dnn_e_4hn_3bs_mean,\n",
    "    yerr=yerr_dn,\n",
    "    linewidth=2.5,\n",
    "    c=\"b\",\n",
    "    alpha=0.7,\n",
    ")\n",
    "ax.errorbar(\n",
    "    scaled_sample_sizes, rf_e_mean, yerr=yerr_rf, linewidth=2.5, c=\"r\", alpha=0.7\n",
    ")\n",
    "\n",
    "plt.title(\"Sparse Parity -- DN 4 Hidden Nodes, 3 Batch Size vs RF\", fontsize=14)\n",
    "plt.xlabel(\"Number of Training Samples\", fontsize=14)\n",
    "plt.ylabel(\"Classification Error\", fontsize=14)\n",
    "plt.legend([\"DN with standard error\", \"RF with standard error\"], prop={\"size\": 14})\n",
    "\n",
    "# fig.savefig(\"Final Figures/dnn_4hn_3bs_10iters_rf_overlay_FINAL.png\")"
   ]
  },
  {
   "cell_type": "code",
   "execution_count": 37,
   "metadata": {
    "scrolled": true
   },
   "outputs": [
    {
     "data": {
      "image/png": "[encoded data removed]",
      "text/plain": [
       "<Figure size 576x432 with 1 Axes>"
      ]
     },
     "metadata": {
      "needs_background": "light"
     },
     "output_type": "display_data"
    },
    {
     "data": {
      "application/javascript": [
       "\n",
       "            setTimeout(function() {\n",
       "                var nbb_cell_id = 37;\n",
       "                var nbb_unformatted_code = \"dnn_e_4hn_3bs_mean_30000 = np.mean(dnn_e_4hn_3bs[:-1, :], axis=1)\\nrf_e_mean = np.mean(rf_e[:-1, :], axis=1)\\n\\nyerr_dn = stats.sem(dnn_e_4hn_3bs[:-1, :], axis=1)\\nyerr_rf = stats.sem(rf_e[:-1, :], axis=1)\\n\\nfig = plt.figure(figsize=(8, 6))\\nax = plt.subplot(111)\\n# ax.plot(sample_sizes, dnn_e_4hn_3bs_mean, linewidth=1.5, c=\\\"maroon\\\")\\n# ax.plot(sample_sizes, rf_e_mean, linewidth=2.5, c=\\\"black\\\", linestyle=\\\"dashed\\\")\\nax.errorbar(\\n    scaled_sample_sizes[:-1],\\n    dnn_e_4hn_3bs_mean_30000,\\n    yerr=yerr_dn,\\n    linewidth=2.5,\\n    c=\\\"b\\\",\\n    alpha=0.8,\\n)\\nax.errorbar(scaled_sample_sizes[:-1], rf_e_mean, yerr=yerr_rf, linewidth=3, c=\\\"r\\\", alpha=0.8)\\n\\nplt.title(\\\"sparse parity: p=14, p*=3\\\", fontsize=14)\\nplt.xlabel(\\\"number of training samples\\\", fontsize=14)\\nplt.ylabel(\\\"classification error\\\", fontsize=14)\\nlegend = ax.legend(\\n    [\\\"DN with standard error\\\", \\\"DF with standard error\\\"],\\n    title=\\\"classifier\\\",\\n    prop={\\\"size\\\": 14},\\n)\\nplt.setp(legend.get_title(), fontsize=14)\\n\\nfig.savefig(\\\"Final Figures/dnn_4hn_3bs_10iters_rf_overlay_FINAL_30000_edits2.png\\\")\";\n",
       "                var nbb_formatted_code = \"dnn_e_4hn_3bs_mean_30000 = np.mean(dnn_e_4hn_3bs[:-1, :], axis=1)\\nrf_e_mean = np.mean(rf_e[:-1, :], axis=1)\\n\\nyerr_dn = stats.sem(dnn_e_4hn_3bs[:-1, :], axis=1)\\nyerr_rf = stats.sem(rf_e[:-1, :], axis=1)\\n\\nfig = plt.figure(figsize=(8, 6))\\nax = plt.subplot(111)\\n# ax.plot(sample_sizes, dnn_e_4hn_3bs_mean, linewidth=1.5, c=\\\"maroon\\\")\\n# ax.plot(sample_sizes, rf_e_mean, linewidth=2.5, c=\\\"black\\\", linestyle=\\\"dashed\\\")\\nax.errorbar(\\n    scaled_sample_sizes[:-1],\\n    dnn_e_4hn_3bs_mean_30000,\\n    yerr=yerr_dn,\\n    linewidth=2.5,\\n    c=\\\"b\\\",\\n    alpha=0.8,\\n)\\nax.errorbar(\\n    scaled_sample_sizes[:-1], rf_e_mean, yerr=yerr_rf, linewidth=3, c=\\\"r\\\", alpha=0.8\\n)\\n\\nplt.title(\\\"sparse parity: p=14, p*=3\\\", fontsize=14)\\nplt.xlabel(\\\"number of training samples\\\", fontsize=14)\\nplt.ylabel(\\\"classification error\\\", fontsize=14)\\nlegend = ax.legend(\\n    [\\\"DN with standard error\\\", \\\"DF with standard error\\\"],\\n    title=\\\"classifier\\\",\\n    prop={\\\"size\\\": 14},\\n)\\nplt.setp(legend.get_title(), fontsize=14)\\n\\nfig.savefig(\\\"Final Figures/dnn_4hn_3bs_10iters_rf_overlay_FINAL_30000_edits2.png\\\")\";\n",
       "                var nbb_cells = Jupyter.notebook.get_cells();\n",
       "                for (var i = 0; i < nbb_cells.length; ++i) {\n",
       "                    if (nbb_cells[i].input_prompt_number == nbb_cell_id) {\n",
       "                        if (nbb_cells[i].get_text() == nbb_unformatted_code) {\n",
       "                             nbb_cells[i].set_text(nbb_formatted_code);\n",
       "                        }\n",
       "                        break;\n",
       "                    }\n",
       "                }\n",
       "            }, 500);\n",
       "            "
      ],
      "text/plain": [
       "<IPython.core.display.Javascript object>"
      ]
     },
     "metadata": {},
     "output_type": "display_data"
    }
   ],
   "source": [
    "dnn_e_4hn_3bs_mean_30000 = np.mean(dnn_e_4hn_3bs[:-1, :], axis=1)\n",
    "rf_e_mean = np.mean(rf_e[:-1, :], axis=1)\n",
    "\n",
    "yerr_dn = stats.sem(dnn_e_4hn_3bs[:-1, :], axis=1)\n",
    "yerr_rf = stats.sem(rf_e[:-1, :], axis=1)\n",
    "\n",
    "fig = plt.figure(figsize=(8, 6))\n",
    "ax = plt.subplot(111)\n",
    "# ax.plot(sample_sizes, dnn_e_4hn_3bs_mean, linewidth=1.5, c=\"maroon\")\n",
    "# ax.plot(sample_sizes, rf_e_mean, linewidth=2.5, c=\"black\", linestyle=\"dashed\")\n",
    "ax.errorbar(\n",
    "    scaled_sample_sizes[:-1],\n",
    "    dnn_e_4hn_3bs_mean_30000,\n",
    "    yerr=yerr_dn,\n",
    "    linewidth=2.5,\n",
    "    c=\"b\",\n",
    "    alpha=0.8,\n",
    ")\n",
    "ax.errorbar(\n",
    "    scaled_sample_sizes[:-1], rf_e_mean, yerr=yerr_rf, linewidth=3, c=\"r\", alpha=0.8\n",
    ")\n",
    "\n",
    "plt.title(\"sparse parity: p=14, p*=3\", fontsize=14)\n",
    "plt.xlabel(\"number of training samples\", fontsize=14)\n",
    "plt.ylabel(\"classification error\", fontsize=14)\n",
    "legend = ax.legend(\n",
    "    [\"DN with standard error\", \"DF with standard error\"],\n",
    "    title=\"classifier\",\n",
    "    prop={\"size\": 14},\n",
    ")\n",
    "plt.setp(legend.get_title(), fontsize=14)\n",
    "\n",
    "fig.savefig(\"Final Figures/dnn_4hn_3bs_10iters_rf_overlay_FINAL_30000_edits2.png\")"
   ]
  },
  {
   "cell_type": "code",
   "execution_count": null,
   "metadata": {},
   "outputs": [],
   "source": []
  },
  {
   "cell_type": "code",
   "execution_count": null,
   "metadata": {},
   "outputs": [],
   "source": []
  },
  {
   "cell_type": "code",
   "execution_count": null,
   "metadata": {},
   "outputs": [],
   "source": []
  },
  {
   "cell_type": "code",
   "execution_count": null,
   "metadata": {},
   "outputs": [],
   "source": [
    "# def test_suite_batch(\n",
    "#     X,\n",
    "#     y,\n",
    "#     iterations,\n",
    "#     output_nodes,\n",
    "#     batches,\n",
    "#     nodes,\n",
    "#     sample_sizes=[500, 1000, 2000, 3000, 5000, 7000, 10000, 12500, 15000, 20000, 30000, 35000],\n",
    "#     epochs=10,\n",
    "#     learning_rate=0.001,\n",
    "#     validation_split=0.3,\n",
    "#     dnn_verbose=1,\n",
    "# ):\n",
    "\n",
    "#     X = np.array(X, dtype=np.float32)\n",
    "#     y = np.array(y, dtype=np.float32)\n",
    "\n",
    "#     dnn_evolution = np.zeros((len(sample_sizes), iterations * len(batches)))\n",
    "\n",
    "#     for index, batch in enumerate(batches):\n",
    "#         print(\"BATCH: \", batch)\n",
    "#         for iteration in range(iterations):\n",
    "#             print(\"iteration: \", iteration)\n",
    "\n",
    "#             for sample_size_index, max_sample_size in enumerate(sample_sizes):\n",
    "#                 print(\"Max sample size: \", max_sample_size)\n",
    "\n",
    "#                 X_scaled, y_scaled = random_sample(X, y, max_sample_size)\n",
    "#                 X_train, X_test, y_train, y_test = train_test_split(\n",
    "#                     X_scaled, y_scaled, test_size=0.3, random_state=101\n",
    "#                 )\n",
    "\n",
    "#                 if output_nodes == 1:\n",
    "#                     dnn_model = binary_deep_neural_network_batch(\n",
    "#                         X_train=X_train,\n",
    "#                         y_train=y_train,\n",
    "#                         hidden_nodes=nodes,\n",
    "#                         epochs=epochs,\n",
    "#                         batch_size=batch,\n",
    "#                         learning_rate=learning_rate,\n",
    "#                         validation_split=validation_split,\n",
    "#                         verbose=dnn_verbose,\n",
    "#                     )\n",
    "\n",
    "#                 score = dnn_model.evaluate(\n",
    "#                     X_test,\n",
    "#                     y_test,\n",
    "#                     batch_size=None,\n",
    "#                     verbose=0,\n",
    "#                     sample_weight=None,\n",
    "#                     steps=None,\n",
    "#                     callbacks=None,\n",
    "#                     max_queue_size=10,\n",
    "#                     workers=1,\n",
    "#                     use_multiprocessing=False,\n",
    "#                     return_dict=False,\n",
    "#                 )\n",
    "\n",
    "#                 dnn_error = 1 - score[1]\n",
    "#                 dnn_evolution[sample_size_index][\n",
    "#                     iteration + iterations * index\n",
    "#                 ] = dnn_error\n",
    "\n",
    "#     return dnn_evolution"
   ]
  },
  {
   "cell_type": "code",
   "execution_count": null,
   "metadata": {},
   "outputs": [],
   "source": []
  },
  {
   "cell_type": "code",
   "execution_count": null,
   "metadata": {},
   "outputs": [],
   "source": []
  },
  {
   "cell_type": "code",
   "execution_count": null,
   "metadata": {},
   "outputs": [],
   "source": []
  },
  {
   "cell_type": "code",
   "execution_count": null,
   "metadata": {},
   "outputs": [],
   "source": []
  },
  {
   "cell_type": "code",
   "execution_count": null,
   "metadata": {},
   "outputs": [],
   "source": []
  },
  {
   "cell_type": "code",
   "execution_count": null,
   "metadata": {},
   "outputs": [],
   "source": []
  },
  {
   "cell_type": "code",
   "execution_count": null,
   "metadata": {},
   "outputs": [],
   "source": []
  },
  {
   "cell_type": "code",
   "execution_count": null,
   "metadata": {},
   "outputs": [],
   "source": []
  },
  {
   "cell_type": "code",
   "execution_count": 1,
   "metadata": {},
   "outputs": [],
   "source": [
    "# from joblib import Parallel, delayed\n",
    "\n",
    "# sample_sizes = [500, 1000, 2000]\n",
    "\n",
    "# start = time.time()\n",
    "# Parallel(n_jobs=-1)(\n",
    "#     delayed(\n",
    "#         test_suite_timed(\n",
    "#             p=14,\n",
    "#             p_star=3,\n",
    "#             iterations=3,\n",
    "#             output_nodes=1,\n",
    "#             sample_sizes=sample_sizes,\n",
    "#             num_trees=500,\n",
    "#             rf_verbose=1,\n",
    "#             batch_size=16,\n",
    "#         )\n",
    "#     )\n",
    "# )\n",
    "\n",
    "\n",
    "# end = time.time()\n",
    "# print(\"\\n\\nTOTAL RUNTIME: \\n\\n\", end - start)"
   ]
  },
  {
   "cell_type": "code",
   "execution_count": null,
   "metadata": {},
   "outputs": [],
   "source": []
  }
 ],
 "metadata": {
  "kernelspec": {
   "display_name": "Python 3",
   "language": "python",
   "name": "python3"
  },
  "language_info": {
   "codemirror_mode": {
    "name": "ipython",
    "version": 3
   },
   "file_extension": ".py",
   "mimetype": "text/x-python",
   "name": "python",
   "nbconvert_exporter": "python",
   "pygments_lexer": "ipython3",
   "version": "3.7.6"
  }
 },
 "nbformat": 4,
 "nbformat_minor": 4
}
